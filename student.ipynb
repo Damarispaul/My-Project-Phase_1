{
 "cells": [
  {
   "attachments": {},
   "cell_type": "markdown",
   "id": "7dd0b807-fe47-42b6-8776-38552e6cad83",
   "metadata": {
    "jp-MarkdownHeadingCollapsed": true
   },
   "source": [
    "# Phase 1 Project\n",
    "\n",
    "* Student Name: Damaris Wanjiru\n",
    "* Student Pace: Full Time\n",
    "* Instructor Name: Lucille Kaleha\n",
    "* Tableau Public:"
   ]
  },
  {
   "cell_type": "markdown",
   "id": "12ca7960-6059-44e9-9061-f3c524df6bba",
   "metadata": {},
   "source": [
    "# Project Overview\n",
    "The main goal of this project is to conduct a comprehensive analysis of historical aviation incident data, with the purpose of identifying aircraft models that pose lower risk. This analysis will also provide detailed, actionable insights into the underlying factors that contribute to aviation incidents, such as technical failures, human errors, or environmental conditions. By thoroughly understanding these contributing factors, the company will be better equipped to make informed decisions on which aircraft to acquire. Additionally, these insights will help in developing targeted strategies and safety protocols to proactively minimize operational risks and enhance overall aviation safety in future once they acquire the aircraft"
   ]
  },
  {
   "cell_type": "markdown",
   "id": "7d75a121-4dc8-4221-a7cc-48d83fb258bb",
   "metadata": {},
   "source": [
    "# Business Understanding\n",
    "Our company wants to expand into the aviation sector by buying and operating aircraft for commercial and private use. However, we lack knowledge about the risks involved with aircraft. The task is to identify the types of aircraft that carry the least risk. Then, present the findings in a clear way to help the management of the new aviation division decide which aircraft to purchase."
   ]
  },
  {
   "cell_type": "markdown",
   "id": "be578dab-a41e-4ade-bada-c62f69d71150",
   "metadata": {},
   "source": [
    "# Problem Statement\n",
    "The company faces challenges in selecting safe aircraft models due to a lack of clear insights from historical incident data. Without a thorough analysis of past incidents, including their causes and contributing factors, the company risks acquiring aircraft that may lead to safety issues. This uncertainty can hinder effective risk management and safety improvements. To enhance decision-making and operational safety, the company needs to identify the safest aircraft options and develop strategies to mitigate potential risks."
   ]
  },
  {
   "cell_type": "markdown",
   "id": "3801af40-c1bc-4189-9642-7067569a1945",
   "metadata": {},
   "source": [
    "# Objectives\n",
    "* Trend Analysis Investigate trends over the years\n",
    "* Identify Safe Aircraft Models and make based on injuries and accidents rates across different aircraft models and make\n",
    "* Assess the effects the weather conditions has on the rate of accidents\n",
    "* Evaluate at what phase of the flight has higher rate of accidents and incident\n",
    "* Determine the geographical locations where accidents are most frequently reported.\n",
    "* Analyze the relationship between the number of engines on an aircraft and the incidence of accidents.\n",
    " "
   ]
  },
  {
   "cell_type": "markdown",
   "id": "2120687f-1d04-413d-9a60-e14cd92d7c91",
   "metadata": {},
   "source": [
    "# Data Understanding and Analysis\n",
    "Data The dataset we are using for this project is drawn from kaggle.com gotteen from National Transportation Safety Board. The aviation accident database provides information on civil aviation accidents and select incidents dating back to 1962 to 2023 encompassing the United States, its territories, and international waters."
   ]
  },
  {
   "cell_type": "markdown",
   "id": "262b4576-5345-4735-89c0-3e0f0c54b0e2",
   "metadata": {},
   "source": [
    "## Data Preparation \n",
    "\n",
    "* Load the data\n",
    "* Data inspection \n",
    "* Check for duplicates and missing values\n",
    "* Handling of missing values\n",
    "* Fix any other error"
   ]
  },
  {
   "cell_type": "markdown",
   "id": "2ea4bc24-9128-4cc4-b98b-3a68e7699e0c",
   "metadata": {},
   "source": [
    "## Importing the relevant libraries"
   ]
  },
  {
   "cell_type": "code",
   "execution_count": 1,
   "id": "075d57e1-965e-4d00-8e19-2bd0ebab212a",
   "metadata": {},
   "outputs": [],
   "source": [
    "import pandas as pd\n",
    "import numpy as np \n",
    "import seaborn as sns\n",
    "import matplotlib.pyplot as plt    \n",
    "%matplotlib inline"
   ]
  },
  {
   "cell_type": "markdown",
   "id": "b17cd6e5-fd7d-4011-8b38-88d05b32f9aa",
   "metadata": {},
   "source": [
    "## Loading the data"
   ]
  },
  {
   "cell_type": "code",
   "execution_count": 2,
   "id": "625a1246-fc9a-4f2f-b11e-c2121f9d17e9",
   "metadata": {},
   "outputs": [],
   "source": [
    "# loading the data\n",
    "AviationData = pd.read_csv(r\"C:\\Users\\Damaris\\Desktop\\AviationData.csv\", encoding='latin1',low_memory=False)\n",
    "aviation_data = AviationData"
   ]
  },
  {
   "cell_type": "code",
   "execution_count": 3,
   "id": "f2be22f3-1f70-43f7-aeec-9e0f6984bcb7",
   "metadata": {},
   "outputs": [
    {
     "data": {
      "text/html": [
       "<div>\n",
       "<style scoped>\n",
       "    .dataframe tbody tr th:only-of-type {\n",
       "        vertical-align: middle;\n",
       "    }\n",
       "\n",
       "    .dataframe tbody tr th {\n",
       "        vertical-align: top;\n",
       "    }\n",
       "\n",
       "    .dataframe thead th {\n",
       "        text-align: right;\n",
       "    }\n",
       "</style>\n",
       "<table border=\"1\" class=\"dataframe\">\n",
       "  <thead>\n",
       "    <tr style=\"text-align: right;\">\n",
       "      <th></th>\n",
       "      <th>Event.Id</th>\n",
       "      <th>Investigation.Type</th>\n",
       "      <th>Accident.Number</th>\n",
       "      <th>Event.Date</th>\n",
       "      <th>Location</th>\n",
       "      <th>Country</th>\n",
       "      <th>Latitude</th>\n",
       "      <th>Longitude</th>\n",
       "      <th>Airport.Code</th>\n",
       "      <th>Airport.Name</th>\n",
       "      <th>Injury.Severity</th>\n",
       "      <th>Aircraft.damage</th>\n",
       "      <th>Aircraft.Category</th>\n",
       "      <th>Registration.Number</th>\n",
       "      <th>Make</th>\n",
       "      <th>Model</th>\n",
       "      <th>Amateur.Built</th>\n",
       "      <th>Number.of.Engines</th>\n",
       "      <th>Engine.Type</th>\n",
       "      <th>FAR.Description</th>\n",
       "      <th>Schedule</th>\n",
       "      <th>Purpose.of.flight</th>\n",
       "      <th>Air.carrier</th>\n",
       "      <th>Total.Fatal.Injuries</th>\n",
       "      <th>Total.Serious.Injuries</th>\n",
       "      <th>Total.Minor.Injuries</th>\n",
       "      <th>Total.Uninjured</th>\n",
       "      <th>Weather.Condition</th>\n",
       "      <th>Broad.phase.of.flight</th>\n",
       "      <th>Report.Status</th>\n",
       "      <th>Publication.Date</th>\n",
       "    </tr>\n",
       "  </thead>\n",
       "  <tbody>\n",
       "    <tr>\n",
       "      <th>0</th>\n",
       "      <td>20001218X45444</td>\n",
       "      <td>Accident</td>\n",
       "      <td>SEA87LA080</td>\n",
       "      <td>10/24/1948</td>\n",
       "      <td>MOOSE CREEK, ID</td>\n",
       "      <td>United States</td>\n",
       "      <td>NaN</td>\n",
       "      <td>NaN</td>\n",
       "      <td>NaN</td>\n",
       "      <td>NaN</td>\n",
       "      <td>Fatal(2)</td>\n",
       "      <td>Destroyed</td>\n",
       "      <td>NaN</td>\n",
       "      <td>NC6404</td>\n",
       "      <td>Stinson</td>\n",
       "      <td>108-3</td>\n",
       "      <td>No</td>\n",
       "      <td>1.0</td>\n",
       "      <td>Reciprocating</td>\n",
       "      <td>NaN</td>\n",
       "      <td>NaN</td>\n",
       "      <td>Personal</td>\n",
       "      <td>NaN</td>\n",
       "      <td>2.0</td>\n",
       "      <td>0.0</td>\n",
       "      <td>0.0</td>\n",
       "      <td>0.0</td>\n",
       "      <td>UNK</td>\n",
       "      <td>Cruise</td>\n",
       "      <td>Probable Cause</td>\n",
       "      <td>NaN</td>\n",
       "    </tr>\n",
       "    <tr>\n",
       "      <th>1</th>\n",
       "      <td>20001218X45447</td>\n",
       "      <td>Accident</td>\n",
       "      <td>LAX94LA336</td>\n",
       "      <td>7/19/1962</td>\n",
       "      <td>BRIDGEPORT, CA</td>\n",
       "      <td>United States</td>\n",
       "      <td>NaN</td>\n",
       "      <td>NaN</td>\n",
       "      <td>NaN</td>\n",
       "      <td>NaN</td>\n",
       "      <td>Fatal(4)</td>\n",
       "      <td>Destroyed</td>\n",
       "      <td>NaN</td>\n",
       "      <td>N5069P</td>\n",
       "      <td>Piper</td>\n",
       "      <td>PA24-180</td>\n",
       "      <td>No</td>\n",
       "      <td>1.0</td>\n",
       "      <td>Reciprocating</td>\n",
       "      <td>NaN</td>\n",
       "      <td>NaN</td>\n",
       "      <td>Personal</td>\n",
       "      <td>NaN</td>\n",
       "      <td>4.0</td>\n",
       "      <td>0.0</td>\n",
       "      <td>0.0</td>\n",
       "      <td>0.0</td>\n",
       "      <td>UNK</td>\n",
       "      <td>Unknown</td>\n",
       "      <td>Probable Cause</td>\n",
       "      <td>19-09-1996</td>\n",
       "    </tr>\n",
       "    <tr>\n",
       "      <th>2</th>\n",
       "      <td>20061025X01555</td>\n",
       "      <td>Accident</td>\n",
       "      <td>NYC07LA005</td>\n",
       "      <td>8/30/1974</td>\n",
       "      <td>Saltville, VA</td>\n",
       "      <td>United States</td>\n",
       "      <td>36.922223</td>\n",
       "      <td>-81.878056</td>\n",
       "      <td>NaN</td>\n",
       "      <td>NaN</td>\n",
       "      <td>Fatal(3)</td>\n",
       "      <td>Destroyed</td>\n",
       "      <td>NaN</td>\n",
       "      <td>N5142R</td>\n",
       "      <td>Cessna</td>\n",
       "      <td>172M</td>\n",
       "      <td>No</td>\n",
       "      <td>1.0</td>\n",
       "      <td>Reciprocating</td>\n",
       "      <td>NaN</td>\n",
       "      <td>NaN</td>\n",
       "      <td>Personal</td>\n",
       "      <td>NaN</td>\n",
       "      <td>3.0</td>\n",
       "      <td>NaN</td>\n",
       "      <td>NaN</td>\n",
       "      <td>NaN</td>\n",
       "      <td>IMC</td>\n",
       "      <td>Cruise</td>\n",
       "      <td>Probable Cause</td>\n",
       "      <td>26-02-2007</td>\n",
       "    </tr>\n",
       "    <tr>\n",
       "      <th>3</th>\n",
       "      <td>20001218X45448</td>\n",
       "      <td>Accident</td>\n",
       "      <td>LAX96LA321</td>\n",
       "      <td>6/19/1977</td>\n",
       "      <td>EUREKA, CA</td>\n",
       "      <td>United States</td>\n",
       "      <td>NaN</td>\n",
       "      <td>NaN</td>\n",
       "      <td>NaN</td>\n",
       "      <td>NaN</td>\n",
       "      <td>Fatal(2)</td>\n",
       "      <td>Destroyed</td>\n",
       "      <td>NaN</td>\n",
       "      <td>N1168J</td>\n",
       "      <td>Rockwell</td>\n",
       "      <td>112</td>\n",
       "      <td>No</td>\n",
       "      <td>1.0</td>\n",
       "      <td>Reciprocating</td>\n",
       "      <td>NaN</td>\n",
       "      <td>NaN</td>\n",
       "      <td>Personal</td>\n",
       "      <td>NaN</td>\n",
       "      <td>2.0</td>\n",
       "      <td>0.0</td>\n",
       "      <td>0.0</td>\n",
       "      <td>0.0</td>\n",
       "      <td>IMC</td>\n",
       "      <td>Cruise</td>\n",
       "      <td>Probable Cause</td>\n",
       "      <td>12/9/2000</td>\n",
       "    </tr>\n",
       "    <tr>\n",
       "      <th>4</th>\n",
       "      <td>20041105X01764</td>\n",
       "      <td>Accident</td>\n",
       "      <td>CHI79FA064</td>\n",
       "      <td>8/2/1979</td>\n",
       "      <td>Canton, OH</td>\n",
       "      <td>United States</td>\n",
       "      <td>NaN</td>\n",
       "      <td>NaN</td>\n",
       "      <td>NaN</td>\n",
       "      <td>NaN</td>\n",
       "      <td>Fatal(1)</td>\n",
       "      <td>Destroyed</td>\n",
       "      <td>NaN</td>\n",
       "      <td>N15NY</td>\n",
       "      <td>Cessna</td>\n",
       "      <td>501</td>\n",
       "      <td>No</td>\n",
       "      <td>NaN</td>\n",
       "      <td>NaN</td>\n",
       "      <td>NaN</td>\n",
       "      <td>NaN</td>\n",
       "      <td>Personal</td>\n",
       "      <td>NaN</td>\n",
       "      <td>1.0</td>\n",
       "      <td>2.0</td>\n",
       "      <td>NaN</td>\n",
       "      <td>0.0</td>\n",
       "      <td>VMC</td>\n",
       "      <td>Approach</td>\n",
       "      <td>Probable Cause</td>\n",
       "      <td>16-04-1980</td>\n",
       "    </tr>\n",
       "  </tbody>\n",
       "</table>\n",
       "</div>"
      ],
      "text/plain": [
       "         Event.Id Investigation.Type Accident.Number  Event.Date  \\\n",
       "0  20001218X45444           Accident      SEA87LA080  10/24/1948   \n",
       "1  20001218X45447           Accident      LAX94LA336   7/19/1962   \n",
       "2  20061025X01555           Accident      NYC07LA005   8/30/1974   \n",
       "3  20001218X45448           Accident      LAX96LA321   6/19/1977   \n",
       "4  20041105X01764           Accident      CHI79FA064    8/2/1979   \n",
       "\n",
       "          Location        Country   Latitude   Longitude Airport.Code  \\\n",
       "0  MOOSE CREEK, ID  United States        NaN         NaN          NaN   \n",
       "1   BRIDGEPORT, CA  United States        NaN         NaN          NaN   \n",
       "2    Saltville, VA  United States  36.922223  -81.878056          NaN   \n",
       "3       EUREKA, CA  United States        NaN         NaN          NaN   \n",
       "4       Canton, OH  United States        NaN         NaN          NaN   \n",
       "\n",
       "  Airport.Name Injury.Severity Aircraft.damage Aircraft.Category  \\\n",
       "0          NaN        Fatal(2)       Destroyed               NaN   \n",
       "1          NaN        Fatal(4)       Destroyed               NaN   \n",
       "2          NaN        Fatal(3)       Destroyed               NaN   \n",
       "3          NaN        Fatal(2)       Destroyed               NaN   \n",
       "4          NaN        Fatal(1)       Destroyed               NaN   \n",
       "\n",
       "  Registration.Number      Make     Model Amateur.Built  Number.of.Engines  \\\n",
       "0              NC6404   Stinson     108-3            No                1.0   \n",
       "1              N5069P     Piper  PA24-180            No                1.0   \n",
       "2              N5142R    Cessna      172M            No                1.0   \n",
       "3              N1168J  Rockwell       112            No                1.0   \n",
       "4               N15NY    Cessna       501            No                NaN   \n",
       "\n",
       "     Engine.Type FAR.Description Schedule Purpose.of.flight Air.carrier  \\\n",
       "0  Reciprocating             NaN      NaN          Personal         NaN   \n",
       "1  Reciprocating             NaN      NaN          Personal         NaN   \n",
       "2  Reciprocating             NaN      NaN          Personal         NaN   \n",
       "3  Reciprocating             NaN      NaN          Personal         NaN   \n",
       "4            NaN             NaN      NaN          Personal         NaN   \n",
       "\n",
       "   Total.Fatal.Injuries  Total.Serious.Injuries  Total.Minor.Injuries  \\\n",
       "0                   2.0                     0.0                   0.0   \n",
       "1                   4.0                     0.0                   0.0   \n",
       "2                   3.0                     NaN                   NaN   \n",
       "3                   2.0                     0.0                   0.0   \n",
       "4                   1.0                     2.0                   NaN   \n",
       "\n",
       "   Total.Uninjured Weather.Condition Broad.phase.of.flight   Report.Status  \\\n",
       "0              0.0               UNK                Cruise  Probable Cause   \n",
       "1              0.0               UNK               Unknown  Probable Cause   \n",
       "2              NaN               IMC                Cruise  Probable Cause   \n",
       "3              0.0               IMC                Cruise  Probable Cause   \n",
       "4              0.0               VMC              Approach  Probable Cause   \n",
       "\n",
       "  Publication.Date  \n",
       "0              NaN  \n",
       "1       19-09-1996  \n",
       "2       26-02-2007  \n",
       "3        12/9/2000  \n",
       "4       16-04-1980  "
      ]
     },
     "execution_count": 3,
     "metadata": {},
     "output_type": "execute_result"
    }
   ],
   "source": [
    "# Display maximum number of columns\n",
    "pd.set_option(\"display.max_columns\",100)\n",
    "aviation_data.head()        # Display the five rows of the dataset"
   ]
  },
  {
   "cell_type": "code",
   "execution_count": 4,
   "id": "f63a6cb4-d0f9-4848-a20c-f179f78268d1",
   "metadata": {},
   "outputs": [
    {
     "name": "stdout",
     "output_type": "stream",
     "text": [
      "This dataset has 88889 rows and 31 columns.\n"
     ]
    }
   ],
   "source": [
    "# Shape of the dataset shows the number of rows and columns\n",
    "print(f\"This dataset has {aviation_data.shape[0]} rows and {aviation_data.shape[1]} columns.\")"
   ]
  },
  {
   "cell_type": "code",
   "execution_count": 5,
   "id": "29face5f-3ae2-420e-b043-ca18e72ac092",
   "metadata": {},
   "outputs": [
    {
     "data": {
      "text/html": [
       "<div>\n",
       "<style scoped>\n",
       "    .dataframe tbody tr th:only-of-type {\n",
       "        vertical-align: middle;\n",
       "    }\n",
       "\n",
       "    .dataframe tbody tr th {\n",
       "        vertical-align: top;\n",
       "    }\n",
       "\n",
       "    .dataframe thead th {\n",
       "        text-align: right;\n",
       "    }\n",
       "</style>\n",
       "<table border=\"1\" class=\"dataframe\">\n",
       "  <thead>\n",
       "    <tr style=\"text-align: right;\">\n",
       "      <th></th>\n",
       "      <th>count</th>\n",
       "      <th>unique</th>\n",
       "      <th>top</th>\n",
       "      <th>freq</th>\n",
       "    </tr>\n",
       "  </thead>\n",
       "  <tbody>\n",
       "    <tr>\n",
       "      <th>Event.Id</th>\n",
       "      <td>88889</td>\n",
       "      <td>84468</td>\n",
       "      <td>2.02207E+13</td>\n",
       "      <td>190</td>\n",
       "    </tr>\n",
       "    <tr>\n",
       "      <th>Investigation.Type</th>\n",
       "      <td>88889</td>\n",
       "      <td>2</td>\n",
       "      <td>Accident</td>\n",
       "      <td>85015</td>\n",
       "    </tr>\n",
       "    <tr>\n",
       "      <th>Accident.Number</th>\n",
       "      <td>88889</td>\n",
       "      <td>88863</td>\n",
       "      <td>ERA22LA103</td>\n",
       "      <td>2</td>\n",
       "    </tr>\n",
       "    <tr>\n",
       "      <th>Event.Date</th>\n",
       "      <td>88889</td>\n",
       "      <td>14782</td>\n",
       "      <td>5/16/1982</td>\n",
       "      <td>25</td>\n",
       "    </tr>\n",
       "    <tr>\n",
       "      <th>Location</th>\n",
       "      <td>88837</td>\n",
       "      <td>27758</td>\n",
       "      <td>ANCHORAGE, AK</td>\n",
       "      <td>434</td>\n",
       "    </tr>\n",
       "    <tr>\n",
       "      <th>Country</th>\n",
       "      <td>88663</td>\n",
       "      <td>219</td>\n",
       "      <td>United States</td>\n",
       "      <td>82248</td>\n",
       "    </tr>\n",
       "    <tr>\n",
       "      <th>Latitude</th>\n",
       "      <td>34382</td>\n",
       "      <td>25589</td>\n",
       "      <td>332739N</td>\n",
       "      <td>19</td>\n",
       "    </tr>\n",
       "    <tr>\n",
       "      <th>Longitude</th>\n",
       "      <td>34373</td>\n",
       "      <td>27154</td>\n",
       "      <td>0112457W</td>\n",
       "      <td>24</td>\n",
       "    </tr>\n",
       "    <tr>\n",
       "      <th>Airport.Code</th>\n",
       "      <td>50132</td>\n",
       "      <td>10356</td>\n",
       "      <td>NONE</td>\n",
       "      <td>1488</td>\n",
       "    </tr>\n",
       "    <tr>\n",
       "      <th>Airport.Name</th>\n",
       "      <td>52704</td>\n",
       "      <td>24869</td>\n",
       "      <td>Private</td>\n",
       "      <td>240</td>\n",
       "    </tr>\n",
       "    <tr>\n",
       "      <th>Injury.Severity</th>\n",
       "      <td>87889</td>\n",
       "      <td>109</td>\n",
       "      <td>Non-Fatal</td>\n",
       "      <td>67357</td>\n",
       "    </tr>\n",
       "    <tr>\n",
       "      <th>Aircraft.damage</th>\n",
       "      <td>85695</td>\n",
       "      <td>4</td>\n",
       "      <td>Substantial</td>\n",
       "      <td>64148</td>\n",
       "    </tr>\n",
       "    <tr>\n",
       "      <th>Aircraft.Category</th>\n",
       "      <td>32287</td>\n",
       "      <td>15</td>\n",
       "      <td>Airplane</td>\n",
       "      <td>27617</td>\n",
       "    </tr>\n",
       "    <tr>\n",
       "      <th>Registration.Number</th>\n",
       "      <td>87507</td>\n",
       "      <td>79104</td>\n",
       "      <td>NONE</td>\n",
       "      <td>344</td>\n",
       "    </tr>\n",
       "    <tr>\n",
       "      <th>Make</th>\n",
       "      <td>88826</td>\n",
       "      <td>8237</td>\n",
       "      <td>Cessna</td>\n",
       "      <td>22227</td>\n",
       "    </tr>\n",
       "    <tr>\n",
       "      <th>Model</th>\n",
       "      <td>88797</td>\n",
       "      <td>12315</td>\n",
       "      <td>152</td>\n",
       "      <td>2367</td>\n",
       "    </tr>\n",
       "    <tr>\n",
       "      <th>Amateur.Built</th>\n",
       "      <td>88787</td>\n",
       "      <td>2</td>\n",
       "      <td>No</td>\n",
       "      <td>80312</td>\n",
       "    </tr>\n",
       "    <tr>\n",
       "      <th>Engine.Type</th>\n",
       "      <td>81793</td>\n",
       "      <td>12</td>\n",
       "      <td>Reciprocating</td>\n",
       "      <td>69530</td>\n",
       "    </tr>\n",
       "    <tr>\n",
       "      <th>FAR.Description</th>\n",
       "      <td>32023</td>\n",
       "      <td>31</td>\n",
       "      <td>91</td>\n",
       "      <td>18221</td>\n",
       "    </tr>\n",
       "    <tr>\n",
       "      <th>Schedule</th>\n",
       "      <td>12582</td>\n",
       "      <td>3</td>\n",
       "      <td>NSCH</td>\n",
       "      <td>4474</td>\n",
       "    </tr>\n",
       "    <tr>\n",
       "      <th>Purpose.of.flight</th>\n",
       "      <td>82697</td>\n",
       "      <td>26</td>\n",
       "      <td>Personal</td>\n",
       "      <td>49448</td>\n",
       "    </tr>\n",
       "    <tr>\n",
       "      <th>Air.carrier</th>\n",
       "      <td>16648</td>\n",
       "      <td>13590</td>\n",
       "      <td>Pilot</td>\n",
       "      <td>258</td>\n",
       "    </tr>\n",
       "    <tr>\n",
       "      <th>Weather.Condition</th>\n",
       "      <td>84397</td>\n",
       "      <td>4</td>\n",
       "      <td>VMC</td>\n",
       "      <td>77303</td>\n",
       "    </tr>\n",
       "    <tr>\n",
       "      <th>Broad.phase.of.flight</th>\n",
       "      <td>61724</td>\n",
       "      <td>12</td>\n",
       "      <td>Landing</td>\n",
       "      <td>15428</td>\n",
       "    </tr>\n",
       "    <tr>\n",
       "      <th>Report.Status</th>\n",
       "      <td>82505</td>\n",
       "      <td>17074</td>\n",
       "      <td>Probable Cause</td>\n",
       "      <td>61754</td>\n",
       "    </tr>\n",
       "    <tr>\n",
       "      <th>Publication.Date</th>\n",
       "      <td>75118</td>\n",
       "      <td>2924</td>\n",
       "      <td>25-09-2020</td>\n",
       "      <td>17019</td>\n",
       "    </tr>\n",
       "  </tbody>\n",
       "</table>\n",
       "</div>"
      ],
      "text/plain": [
       "                       count unique             top   freq\n",
       "Event.Id               88889  84468     2.02207E+13    190\n",
       "Investigation.Type     88889      2        Accident  85015\n",
       "Accident.Number        88889  88863      ERA22LA103      2\n",
       "Event.Date             88889  14782       5/16/1982     25\n",
       "Location               88837  27758   ANCHORAGE, AK    434\n",
       "Country                88663    219   United States  82248\n",
       "Latitude               34382  25589         332739N     19\n",
       "Longitude              34373  27154        0112457W     24\n",
       "Airport.Code           50132  10356            NONE   1488\n",
       "Airport.Name           52704  24869         Private    240\n",
       "Injury.Severity        87889    109       Non-Fatal  67357\n",
       "Aircraft.damage        85695      4     Substantial  64148\n",
       "Aircraft.Category      32287     15        Airplane  27617\n",
       "Registration.Number    87507  79104            NONE    344\n",
       "Make                   88826   8237          Cessna  22227\n",
       "Model                  88797  12315             152   2367\n",
       "Amateur.Built          88787      2              No  80312\n",
       "Engine.Type            81793     12   Reciprocating  69530\n",
       "FAR.Description        32023     31              91  18221\n",
       "Schedule               12582      3            NSCH   4474\n",
       "Purpose.of.flight      82697     26        Personal  49448\n",
       "Air.carrier            16648  13590           Pilot    258\n",
       "Weather.Condition      84397      4             VMC  77303\n",
       "Broad.phase.of.flight  61724     12         Landing  15428\n",
       "Report.Status          82505  17074  Probable Cause  61754\n",
       "Publication.Date       75118   2924      25-09-2020  17019"
      ]
     },
     "execution_count": 5,
     "metadata": {},
     "output_type": "execute_result"
    }
   ],
   "source": [
    "#Statistical summary for categorical columns\n",
    "aviation_data.describe(include=object).T"
   ]
  },
  {
   "cell_type": "code",
   "execution_count": 6,
   "id": "1f26b3ab-f9a8-464b-976b-428a0525cc12",
   "metadata": {},
   "outputs": [
    {
     "data": {
      "text/html": [
       "<div>\n",
       "<style scoped>\n",
       "    .dataframe tbody tr th:only-of-type {\n",
       "        vertical-align: middle;\n",
       "    }\n",
       "\n",
       "    .dataframe tbody tr th {\n",
       "        vertical-align: top;\n",
       "    }\n",
       "\n",
       "    .dataframe thead th {\n",
       "        text-align: right;\n",
       "    }\n",
       "</style>\n",
       "<table border=\"1\" class=\"dataframe\">\n",
       "  <thead>\n",
       "    <tr style=\"text-align: right;\">\n",
       "      <th></th>\n",
       "      <th>count</th>\n",
       "      <th>mean</th>\n",
       "      <th>std</th>\n",
       "      <th>min</th>\n",
       "      <th>25%</th>\n",
       "      <th>50%</th>\n",
       "      <th>75%</th>\n",
       "      <th>max</th>\n",
       "    </tr>\n",
       "  </thead>\n",
       "  <tbody>\n",
       "    <tr>\n",
       "      <th>Number.of.Engines</th>\n",
       "      <td>82805.0</td>\n",
       "      <td>1.146585</td>\n",
       "      <td>0.446510</td>\n",
       "      <td>0.0</td>\n",
       "      <td>1.0</td>\n",
       "      <td>1.0</td>\n",
       "      <td>1.0</td>\n",
       "      <td>8.0</td>\n",
       "    </tr>\n",
       "    <tr>\n",
       "      <th>Total.Fatal.Injuries</th>\n",
       "      <td>77488.0</td>\n",
       "      <td>0.647855</td>\n",
       "      <td>5.485960</td>\n",
       "      <td>0.0</td>\n",
       "      <td>0.0</td>\n",
       "      <td>0.0</td>\n",
       "      <td>0.0</td>\n",
       "      <td>349.0</td>\n",
       "    </tr>\n",
       "    <tr>\n",
       "      <th>Total.Serious.Injuries</th>\n",
       "      <td>76379.0</td>\n",
       "      <td>0.279881</td>\n",
       "      <td>1.544084</td>\n",
       "      <td>0.0</td>\n",
       "      <td>0.0</td>\n",
       "      <td>0.0</td>\n",
       "      <td>0.0</td>\n",
       "      <td>161.0</td>\n",
       "    </tr>\n",
       "    <tr>\n",
       "      <th>Total.Minor.Injuries</th>\n",
       "      <td>76956.0</td>\n",
       "      <td>0.357061</td>\n",
       "      <td>2.235625</td>\n",
       "      <td>0.0</td>\n",
       "      <td>0.0</td>\n",
       "      <td>0.0</td>\n",
       "      <td>0.0</td>\n",
       "      <td>380.0</td>\n",
       "    </tr>\n",
       "    <tr>\n",
       "      <th>Total.Uninjured</th>\n",
       "      <td>82977.0</td>\n",
       "      <td>5.325440</td>\n",
       "      <td>27.913634</td>\n",
       "      <td>0.0</td>\n",
       "      <td>0.0</td>\n",
       "      <td>1.0</td>\n",
       "      <td>2.0</td>\n",
       "      <td>699.0</td>\n",
       "    </tr>\n",
       "  </tbody>\n",
       "</table>\n",
       "</div>"
      ],
      "text/plain": [
       "                          count      mean        std  min  25%  50%  75%  \\\n",
       "Number.of.Engines       82805.0  1.146585   0.446510  0.0  1.0  1.0  1.0   \n",
       "Total.Fatal.Injuries    77488.0  0.647855   5.485960  0.0  0.0  0.0  0.0   \n",
       "Total.Serious.Injuries  76379.0  0.279881   1.544084  0.0  0.0  0.0  0.0   \n",
       "Total.Minor.Injuries    76956.0  0.357061   2.235625  0.0  0.0  0.0  0.0   \n",
       "Total.Uninjured         82977.0  5.325440  27.913634  0.0  0.0  1.0  2.0   \n",
       "\n",
       "                          max  \n",
       "Number.of.Engines         8.0  \n",
       "Total.Fatal.Injuries    349.0  \n",
       "Total.Serious.Injuries  161.0  \n",
       "Total.Minor.Injuries    380.0  \n",
       "Total.Uninjured         699.0  "
      ]
     },
     "execution_count": 6,
     "metadata": {},
     "output_type": "execute_result"
    }
   ],
   "source": [
    "# Statistical summary for numerical dataset\n",
    "aviation_data.describe().T"
   ]
  },
  {
   "cell_type": "code",
   "execution_count": 7,
   "id": "76490bce-791d-4fbb-80db-4e0d2fa81a0f",
   "metadata": {},
   "outputs": [
    {
     "name": "stdout",
     "output_type": "stream",
     "text": [
      "<class 'pandas.core.frame.DataFrame'>\n",
      "RangeIndex: 88889 entries, 0 to 88888\n",
      "Data columns (total 31 columns):\n",
      " #   Column                  Non-Null Count  Dtype  \n",
      "---  ------                  --------------  -----  \n",
      " 0   Event.Id                88889 non-null  object \n",
      " 1   Investigation.Type      88889 non-null  object \n",
      " 2   Accident.Number         88889 non-null  object \n",
      " 3   Event.Date              88889 non-null  object \n",
      " 4   Location                88837 non-null  object \n",
      " 5   Country                 88663 non-null  object \n",
      " 6   Latitude                34382 non-null  object \n",
      " 7   Longitude               34373 non-null  object \n",
      " 8   Airport.Code            50132 non-null  object \n",
      " 9   Airport.Name            52704 non-null  object \n",
      " 10  Injury.Severity         87889 non-null  object \n",
      " 11  Aircraft.damage         85695 non-null  object \n",
      " 12  Aircraft.Category       32287 non-null  object \n",
      " 13  Registration.Number     87507 non-null  object \n",
      " 14  Make                    88826 non-null  object \n",
      " 15  Model                   88797 non-null  object \n",
      " 16  Amateur.Built           88787 non-null  object \n",
      " 17  Number.of.Engines       82805 non-null  float64\n",
      " 18  Engine.Type             81793 non-null  object \n",
      " 19  FAR.Description         32023 non-null  object \n",
      " 20  Schedule                12582 non-null  object \n",
      " 21  Purpose.of.flight       82697 non-null  object \n",
      " 22  Air.carrier             16648 non-null  object \n",
      " 23  Total.Fatal.Injuries    77488 non-null  float64\n",
      " 24  Total.Serious.Injuries  76379 non-null  float64\n",
      " 25  Total.Minor.Injuries    76956 non-null  float64\n",
      " 26  Total.Uninjured         82977 non-null  float64\n",
      " 27  Weather.Condition       84397 non-null  object \n",
      " 28  Broad.phase.of.flight   61724 non-null  object \n",
      " 29  Report.Status           82505 non-null  object \n",
      " 30  Publication.Date        75118 non-null  object \n",
      "dtypes: float64(5), object(26)\n",
      "memory usage: 21.0+ MB\n"
     ]
    }
   ],
   "source": [
    "aviation_data.info()"
   ]
  },
  {
   "cell_type": "code",
   "execution_count": 8,
   "id": "338d6e44-9ec4-4863-b325-8892be6ef709",
   "metadata": {},
   "outputs": [
    {
     "data": {
      "text/plain": [
       "Index(['Event.Id', 'Investigation.Type', 'Accident.Number', 'Event.Date',\n",
       "       'Location', 'Country', 'Latitude', 'Longitude', 'Airport.Code',\n",
       "       'Airport.Name', 'Injury.Severity', 'Aircraft.damage',\n",
       "       'Aircraft.Category', 'Registration.Number', 'Make', 'Model',\n",
       "       'Amateur.Built', 'Number.of.Engines', 'Engine.Type', 'FAR.Description',\n",
       "       'Schedule', 'Purpose.of.flight', 'Air.carrier', 'Total.Fatal.Injuries',\n",
       "       'Total.Serious.Injuries', 'Total.Minor.Injuries', 'Total.Uninjured',\n",
       "       'Weather.Condition', 'Broad.phase.of.flight', 'Report.Status',\n",
       "       'Publication.Date'],\n",
       "      dtype='object')"
      ]
     },
     "execution_count": 8,
     "metadata": {},
     "output_type": "execute_result"
    }
   ],
   "source": [
    "# Inspect the columns\n",
    "aviation_data.columns"
   ]
  },
  {
   "cell_type": "code",
   "execution_count": 9,
   "id": "aabb6d75-c259-4974-a6e1-0df9c3fb065a",
   "metadata": {},
   "outputs": [
    {
     "data": {
      "text/html": [
       "<div>\n",
       "<style scoped>\n",
       "    .dataframe tbody tr th:only-of-type {\n",
       "        vertical-align: middle;\n",
       "    }\n",
       "\n",
       "    .dataframe tbody tr th {\n",
       "        vertical-align: top;\n",
       "    }\n",
       "\n",
       "    .dataframe thead th {\n",
       "        text-align: right;\n",
       "    }\n",
       "</style>\n",
       "<table border=\"1\" class=\"dataframe\">\n",
       "  <thead>\n",
       "    <tr style=\"text-align: right;\">\n",
       "      <th></th>\n",
       "      <th>event-id</th>\n",
       "      <th>investigation-type</th>\n",
       "      <th>accident-number</th>\n",
       "      <th>event-date</th>\n",
       "      <th>location</th>\n",
       "      <th>country</th>\n",
       "      <th>latitude</th>\n",
       "      <th>longitude</th>\n",
       "      <th>airport-code</th>\n",
       "      <th>airport-name</th>\n",
       "      <th>injury-severity</th>\n",
       "      <th>aircraft-damage</th>\n",
       "      <th>aircraft-category</th>\n",
       "      <th>registration-number</th>\n",
       "      <th>make</th>\n",
       "      <th>model</th>\n",
       "      <th>amateur-built</th>\n",
       "      <th>number-of-engines</th>\n",
       "      <th>engine-type</th>\n",
       "      <th>far-description</th>\n",
       "      <th>schedule</th>\n",
       "      <th>purpose-of-flight</th>\n",
       "      <th>air-carrier</th>\n",
       "      <th>total-fatal-injuries</th>\n",
       "      <th>total-serious-injuries</th>\n",
       "      <th>total-minor-injuries</th>\n",
       "      <th>total-uninjured</th>\n",
       "      <th>weather-condition</th>\n",
       "      <th>broad-phase-of-flight</th>\n",
       "      <th>report-status</th>\n",
       "      <th>publication-date</th>\n",
       "    </tr>\n",
       "  </thead>\n",
       "  <tbody>\n",
       "    <tr>\n",
       "      <th>0</th>\n",
       "      <td>20001218X45444</td>\n",
       "      <td>Accident</td>\n",
       "      <td>SEA87LA080</td>\n",
       "      <td>10/24/1948</td>\n",
       "      <td>MOOSE CREEK, ID</td>\n",
       "      <td>United States</td>\n",
       "      <td>NaN</td>\n",
       "      <td>NaN</td>\n",
       "      <td>NaN</td>\n",
       "      <td>NaN</td>\n",
       "      <td>Fatal(2)</td>\n",
       "      <td>Destroyed</td>\n",
       "      <td>NaN</td>\n",
       "      <td>NC6404</td>\n",
       "      <td>Stinson</td>\n",
       "      <td>108-3</td>\n",
       "      <td>No</td>\n",
       "      <td>1.0</td>\n",
       "      <td>Reciprocating</td>\n",
       "      <td>NaN</td>\n",
       "      <td>NaN</td>\n",
       "      <td>Personal</td>\n",
       "      <td>NaN</td>\n",
       "      <td>2.0</td>\n",
       "      <td>0.0</td>\n",
       "      <td>0.0</td>\n",
       "      <td>0.0</td>\n",
       "      <td>UNK</td>\n",
       "      <td>Cruise</td>\n",
       "      <td>Probable Cause</td>\n",
       "      <td>NaN</td>\n",
       "    </tr>\n",
       "    <tr>\n",
       "      <th>1</th>\n",
       "      <td>20001218X45447</td>\n",
       "      <td>Accident</td>\n",
       "      <td>LAX94LA336</td>\n",
       "      <td>7/19/1962</td>\n",
       "      <td>BRIDGEPORT, CA</td>\n",
       "      <td>United States</td>\n",
       "      <td>NaN</td>\n",
       "      <td>NaN</td>\n",
       "      <td>NaN</td>\n",
       "      <td>NaN</td>\n",
       "      <td>Fatal(4)</td>\n",
       "      <td>Destroyed</td>\n",
       "      <td>NaN</td>\n",
       "      <td>N5069P</td>\n",
       "      <td>Piper</td>\n",
       "      <td>PA24-180</td>\n",
       "      <td>No</td>\n",
       "      <td>1.0</td>\n",
       "      <td>Reciprocating</td>\n",
       "      <td>NaN</td>\n",
       "      <td>NaN</td>\n",
       "      <td>Personal</td>\n",
       "      <td>NaN</td>\n",
       "      <td>4.0</td>\n",
       "      <td>0.0</td>\n",
       "      <td>0.0</td>\n",
       "      <td>0.0</td>\n",
       "      <td>UNK</td>\n",
       "      <td>Unknown</td>\n",
       "      <td>Probable Cause</td>\n",
       "      <td>19-09-1996</td>\n",
       "    </tr>\n",
       "  </tbody>\n",
       "</table>\n",
       "</div>"
      ],
      "text/plain": [
       "         event-id investigation-type accident-number  event-date  \\\n",
       "0  20001218X45444           Accident      SEA87LA080  10/24/1948   \n",
       "1  20001218X45447           Accident      LAX94LA336   7/19/1962   \n",
       "\n",
       "          location        country latitude longitude airport-code  \\\n",
       "0  MOOSE CREEK, ID  United States      NaN       NaN          NaN   \n",
       "1   BRIDGEPORT, CA  United States      NaN       NaN          NaN   \n",
       "\n",
       "  airport-name injury-severity aircraft-damage aircraft-category  \\\n",
       "0          NaN        Fatal(2)       Destroyed               NaN   \n",
       "1          NaN        Fatal(4)       Destroyed               NaN   \n",
       "\n",
       "  registration-number     make     model amateur-built  number-of-engines  \\\n",
       "0              NC6404  Stinson     108-3            No                1.0   \n",
       "1              N5069P    Piper  PA24-180            No                1.0   \n",
       "\n",
       "     engine-type far-description schedule purpose-of-flight air-carrier  \\\n",
       "0  Reciprocating             NaN      NaN          Personal         NaN   \n",
       "1  Reciprocating             NaN      NaN          Personal         NaN   \n",
       "\n",
       "   total-fatal-injuries  total-serious-injuries  total-minor-injuries  \\\n",
       "0                   2.0                     0.0                   0.0   \n",
       "1                   4.0                     0.0                   0.0   \n",
       "\n",
       "   total-uninjured weather-condition broad-phase-of-flight   report-status  \\\n",
       "0              0.0               UNK                Cruise  Probable Cause   \n",
       "1              0.0               UNK               Unknown  Probable Cause   \n",
       "\n",
       "  publication-date  \n",
       "0              NaN  \n",
       "1       19-09-1996  "
      ]
     },
     "execution_count": 9,
     "metadata": {},
     "output_type": "execute_result"
    }
   ],
   "source": [
    "# Replace \".\" with \"-\" and convert column names to lowercase in one line\n",
    "aviation_data.columns = [col.replace('.', '-').lower() for col in aviation_data.columns]\n",
    "aviation_data.head(2)"
   ]
  },
  {
   "cell_type": "markdown",
   "id": "eb4315ea-b2c0-41c0-aac9-7e2b91442d47",
   "metadata": {},
   "source": [
    "### Load the Us Codes\n"
   ]
  },
  {
   "cell_type": "code",
   "execution_count": 10,
   "id": "f4ef2ee2-e735-41fb-8de2-7be0c5e50288",
   "metadata": {},
   "outputs": [],
   "source": [
    "# Loading the us states code they will be used in visualizing the location\n",
    "state_codes = pd.read_csv(r\"C:\\Users\\Damaris\\Desktop\\USState_Codes.csv\", encoding=\"latin1\", low_memory=False)\n"
   ]
  },
  {
   "cell_type": "code",
   "execution_count": 11,
   "id": "f523dbbb-db8e-4f1e-a9a6-abf39dd4a6ea",
   "metadata": {},
   "outputs": [
    {
     "name": "stdout",
     "output_type": "stream",
     "text": [
      "The first five      US_State Abbreviation\n",
      "0     Alabama           AL\n",
      "1      Alaska           AK\n",
      "2     Arizona           AZ\n",
      "3    Arkansas           AR\n",
      "4  California           CA\n",
      "The last five           US_State Abbreviation\n",
      "57  Virgin Islands           VI\n",
      "58   Washington_DC           DC\n",
      "59  Gulf of mexico           GM\n",
      "60  Atlantic ocean           AO\n",
      "61   Pacific ocean           PO\n"
     ]
    }
   ],
   "source": [
    "# Shows the first 5 and last 5\n",
    "print(\"The first five\",state_codes.head())\n",
    "print(\"The last five\",state_codes.tail())"
   ]
  },
  {
   "cell_type": "code",
   "execution_count": 12,
   "id": "421895d9-491d-40fb-acae-bda71df8baef",
   "metadata": {},
   "outputs": [
    {
     "name": "stdout",
     "output_type": "stream",
     "text": [
      "<class 'pandas.core.frame.DataFrame'>\n",
      "RangeIndex: 62 entries, 0 to 61\n",
      "Data columns (total 2 columns):\n",
      " #   Column        Non-Null Count  Dtype \n",
      "---  ------        --------------  ----- \n",
      " 0   US_State      62 non-null     object\n",
      " 1   Abbreviation  62 non-null     object\n",
      "dtypes: object(2)\n",
      "memory usage: 1.1+ KB\n",
      "None\n",
      "This Dataset has 62  rows and 2 columns\n"
     ]
    },
    {
     "data": {
      "text/html": [
       "<div>\n",
       "<style scoped>\n",
       "    .dataframe tbody tr th:only-of-type {\n",
       "        vertical-align: middle;\n",
       "    }\n",
       "\n",
       "    .dataframe tbody tr th {\n",
       "        vertical-align: top;\n",
       "    }\n",
       "\n",
       "    .dataframe thead th {\n",
       "        text-align: right;\n",
       "    }\n",
       "</style>\n",
       "<table border=\"1\" class=\"dataframe\">\n",
       "  <thead>\n",
       "    <tr style=\"text-align: right;\">\n",
       "      <th></th>\n",
       "      <th>count</th>\n",
       "      <th>unique</th>\n",
       "      <th>top</th>\n",
       "      <th>freq</th>\n",
       "    </tr>\n",
       "  </thead>\n",
       "  <tbody>\n",
       "    <tr>\n",
       "      <th>US_State</th>\n",
       "      <td>62</td>\n",
       "      <td>62</td>\n",
       "      <td>Alabama</td>\n",
       "      <td>1</td>\n",
       "    </tr>\n",
       "    <tr>\n",
       "      <th>Abbreviation</th>\n",
       "      <td>62</td>\n",
       "      <td>62</td>\n",
       "      <td>AL</td>\n",
       "      <td>1</td>\n",
       "    </tr>\n",
       "  </tbody>\n",
       "</table>\n",
       "</div>"
      ],
      "text/plain": [
       "             count unique      top freq\n",
       "US_State        62     62  Alabama    1\n",
       "Abbreviation    62     62       AL    1"
      ]
     },
     "execution_count": 12,
     "metadata": {},
     "output_type": "execute_result"
    }
   ],
   "source": [
    "# Inspecting the sstate_codes dataset\n",
    "print(state_codes.info())\n",
    "print(f\"This Dataset has {state_codes.shape[0]}  rows and {state_codes.shape[1]} columns\")\n",
    "state_codes.describe().T"
   ]
  },
  {
   "cell_type": "code",
   "execution_count": 13,
   "id": "f757396e-e17d-4b0e-815b-94706a1bf7d6",
   "metadata": {},
   "outputs": [],
   "source": [
    "# save the states codes and make a copy"
   ]
  },
  {
   "cell_type": "markdown",
   "id": "9e05f8ba-2b97-40f1-9bb3-e5f82cbe70dc",
   "metadata": {},
   "source": [
    "### Data Cleaning and Checkig for Missing Values"
   ]
  },
  {
   "cell_type": "code",
   "execution_count": 14,
   "id": "d61d80d9-aa68-438b-ba71-17259d34619d",
   "metadata": {},
   "outputs": [
    {
     "name": "stdout",
     "output_type": "stream",
     "text": [
      "We have 0 duplicates in this dataset\n"
     ]
    }
   ],
   "source": [
    "# check for duplicates\n",
    "print(f\"We have {aviation_data.duplicated().sum()} duplicates in this dataset\")"
   ]
  },
  {
   "cell_type": "code",
   "execution_count": 15,
   "id": "6316beb3-3526-41ea-a5e7-cba09f86d9a5",
   "metadata": {},
   "outputs": [],
   "source": [
    "# Make a copy before uttering the data\n",
    "aviation_data_uncleaned = aviation_data.copy()"
   ]
  },
  {
   "cell_type": "code",
   "execution_count": 16,
   "id": "276421e4-d470-4119-a108-92eec0208db6",
   "metadata": {},
   "outputs": [
    {
     "data": {
      "text/plain": [
       "event-id                      0\n",
       "investigation-type            0\n",
       "accident-number               0\n",
       "event-date                    0\n",
       "location                     52\n",
       "country                     226\n",
       "latitude                  54507\n",
       "longitude                 54516\n",
       "airport-code              38757\n",
       "airport-name              36185\n",
       "injury-severity            1000\n",
       "aircraft-damage            3194\n",
       "aircraft-category         56602\n",
       "registration-number        1382\n",
       "make                         63\n",
       "model                        92\n",
       "amateur-built               102\n",
       "number-of-engines          6084\n",
       "engine-type                7096\n",
       "far-description           56866\n",
       "schedule                  76307\n",
       "purpose-of-flight          6192\n",
       "air-carrier               72241\n",
       "total-fatal-injuries      11401\n",
       "total-serious-injuries    12510\n",
       "total-minor-injuries      11933\n",
       "total-uninjured            5912\n",
       "weather-condition          4492\n",
       "broad-phase-of-flight     27165\n",
       "report-status              6384\n",
       "publication-date          13771\n",
       "dtype: int64"
      ]
     },
     "execution_count": 16,
     "metadata": {},
     "output_type": "execute_result"
    }
   ],
   "source": [
    "# Check for missing values\n",
    "\n",
    "aviation_data.isna().sum()"
   ]
  },
  {
   "cell_type": "markdown",
   "id": "ba22cf74-d478-4281-a52f-65facc2661b9",
   "metadata": {},
   "source": [
    "The above shows that there are a lot of missing data and some columns have more than half of the rows with missing data.\n"
   ]
  },
  {
   "cell_type": "markdown",
   "id": "4500781a-6eb1-4457-aacd-b49d81892be9",
   "metadata": {},
   "source": [
    "#### Percentage of Null values"
   ]
  },
  {
   "cell_type": "code",
   "execution_count": 17,
   "id": "d1992b97-3389-4d42-9ad6-0d4631451358",
   "metadata": {},
   "outputs": [
    {
     "data": {
      "text/html": [
       "<div>\n",
       "<style scoped>\n",
       "    .dataframe tbody tr th:only-of-type {\n",
       "        vertical-align: middle;\n",
       "    }\n",
       "\n",
       "    .dataframe tbody tr th {\n",
       "        vertical-align: top;\n",
       "    }\n",
       "\n",
       "    .dataframe thead th {\n",
       "        text-align: right;\n",
       "    }\n",
       "</style>\n",
       "<table border=\"1\" class=\"dataframe\">\n",
       "  <thead>\n",
       "    <tr style=\"text-align: right;\">\n",
       "      <th></th>\n",
       "      <th>Column</th>\n",
       "      <th>Null_Percentage</th>\n",
       "    </tr>\n",
       "  </thead>\n",
       "  <tbody>\n",
       "    <tr>\n",
       "      <th>20</th>\n",
       "      <td>schedule</td>\n",
       "      <td>85.845268</td>\n",
       "    </tr>\n",
       "    <tr>\n",
       "      <th>22</th>\n",
       "      <td>air-carrier</td>\n",
       "      <td>81.271023</td>\n",
       "    </tr>\n",
       "    <tr>\n",
       "      <th>19</th>\n",
       "      <td>far-description</td>\n",
       "      <td>63.974170</td>\n",
       "    </tr>\n",
       "    <tr>\n",
       "      <th>12</th>\n",
       "      <td>aircraft-category</td>\n",
       "      <td>63.677170</td>\n",
       "    </tr>\n",
       "    <tr>\n",
       "      <th>7</th>\n",
       "      <td>longitude</td>\n",
       "      <td>61.330423</td>\n",
       "    </tr>\n",
       "    <tr>\n",
       "      <th>6</th>\n",
       "      <td>latitude</td>\n",
       "      <td>61.320298</td>\n",
       "    </tr>\n",
       "    <tr>\n",
       "      <th>8</th>\n",
       "      <td>airport-code</td>\n",
       "      <td>43.601570</td>\n",
       "    </tr>\n",
       "    <tr>\n",
       "      <th>9</th>\n",
       "      <td>airport-name</td>\n",
       "      <td>40.708074</td>\n",
       "    </tr>\n",
       "    <tr>\n",
       "      <th>28</th>\n",
       "      <td>broad-phase-of-flight</td>\n",
       "      <td>30.560587</td>\n",
       "    </tr>\n",
       "    <tr>\n",
       "      <th>30</th>\n",
       "      <td>publication-date</td>\n",
       "      <td>15.492356</td>\n",
       "    </tr>\n",
       "    <tr>\n",
       "      <th>24</th>\n",
       "      <td>total-serious-injuries</td>\n",
       "      <td>14.073732</td>\n",
       "    </tr>\n",
       "    <tr>\n",
       "      <th>25</th>\n",
       "      <td>total-minor-injuries</td>\n",
       "      <td>13.424608</td>\n",
       "    </tr>\n",
       "    <tr>\n",
       "      <th>23</th>\n",
       "      <td>total-fatal-injuries</td>\n",
       "      <td>12.826109</td>\n",
       "    </tr>\n",
       "    <tr>\n",
       "      <th>18</th>\n",
       "      <td>engine-type</td>\n",
       "      <td>7.982990</td>\n",
       "    </tr>\n",
       "    <tr>\n",
       "      <th>29</th>\n",
       "      <td>report-status</td>\n",
       "      <td>7.181991</td>\n",
       "    </tr>\n",
       "    <tr>\n",
       "      <th>21</th>\n",
       "      <td>purpose-of-flight</td>\n",
       "      <td>6.965991</td>\n",
       "    </tr>\n",
       "    <tr>\n",
       "      <th>17</th>\n",
       "      <td>number-of-engines</td>\n",
       "      <td>6.844491</td>\n",
       "    </tr>\n",
       "    <tr>\n",
       "      <th>26</th>\n",
       "      <td>total-uninjured</td>\n",
       "      <td>6.650992</td>\n",
       "    </tr>\n",
       "    <tr>\n",
       "      <th>27</th>\n",
       "      <td>weather-condition</td>\n",
       "      <td>5.053494</td>\n",
       "    </tr>\n",
       "    <tr>\n",
       "      <th>11</th>\n",
       "      <td>aircraft-damage</td>\n",
       "      <td>3.593246</td>\n",
       "    </tr>\n",
       "    <tr>\n",
       "      <th>13</th>\n",
       "      <td>registration-number</td>\n",
       "      <td>1.554748</td>\n",
       "    </tr>\n",
       "    <tr>\n",
       "      <th>10</th>\n",
       "      <td>injury-severity</td>\n",
       "      <td>1.124999</td>\n",
       "    </tr>\n",
       "    <tr>\n",
       "      <th>5</th>\n",
       "      <td>country</td>\n",
       "      <td>0.254250</td>\n",
       "    </tr>\n",
       "    <tr>\n",
       "      <th>16</th>\n",
       "      <td>amateur-built</td>\n",
       "      <td>0.114750</td>\n",
       "    </tr>\n",
       "    <tr>\n",
       "      <th>15</th>\n",
       "      <td>model</td>\n",
       "      <td>0.103500</td>\n",
       "    </tr>\n",
       "    <tr>\n",
       "      <th>14</th>\n",
       "      <td>make</td>\n",
       "      <td>0.070875</td>\n",
       "    </tr>\n",
       "    <tr>\n",
       "      <th>4</th>\n",
       "      <td>location</td>\n",
       "      <td>0.058500</td>\n",
       "    </tr>\n",
       "    <tr>\n",
       "      <th>2</th>\n",
       "      <td>accident-number</td>\n",
       "      <td>0.000000</td>\n",
       "    </tr>\n",
       "    <tr>\n",
       "      <th>1</th>\n",
       "      <td>investigation-type</td>\n",
       "      <td>0.000000</td>\n",
       "    </tr>\n",
       "    <tr>\n",
       "      <th>0</th>\n",
       "      <td>event-id</td>\n",
       "      <td>0.000000</td>\n",
       "    </tr>\n",
       "    <tr>\n",
       "      <th>3</th>\n",
       "      <td>event-date</td>\n",
       "      <td>0.000000</td>\n",
       "    </tr>\n",
       "  </tbody>\n",
       "</table>\n",
       "</div>"
      ],
      "text/plain": [
       "                    Column  Null_Percentage\n",
       "20                schedule        85.845268\n",
       "22             air-carrier        81.271023\n",
       "19         far-description        63.974170\n",
       "12       aircraft-category        63.677170\n",
       "7                longitude        61.330423\n",
       "6                 latitude        61.320298\n",
       "8             airport-code        43.601570\n",
       "9             airport-name        40.708074\n",
       "28   broad-phase-of-flight        30.560587\n",
       "30        publication-date        15.492356\n",
       "24  total-serious-injuries        14.073732\n",
       "25    total-minor-injuries        13.424608\n",
       "23    total-fatal-injuries        12.826109\n",
       "18             engine-type         7.982990\n",
       "29           report-status         7.181991\n",
       "21       purpose-of-flight         6.965991\n",
       "17       number-of-engines         6.844491\n",
       "26         total-uninjured         6.650992\n",
       "27       weather-condition         5.053494\n",
       "11         aircraft-damage         3.593246\n",
       "13     registration-number         1.554748\n",
       "10         injury-severity         1.124999\n",
       "5                  country         0.254250\n",
       "16           amateur-built         0.114750\n",
       "15                   model         0.103500\n",
       "14                    make         0.070875\n",
       "4                 location         0.058500\n",
       "2          accident-number         0.000000\n",
       "1       investigation-type         0.000000\n",
       "0                 event-id         0.000000\n",
       "3               event-date         0.000000"
      ]
     },
     "execution_count": 17,
     "metadata": {},
     "output_type": "execute_result"
    }
   ],
   "source": [
    "# Calculate null percentage\n",
    "null_percentage = [(col, (aviation_data[col].isna().sum() / len (aviation_data)) * 100) for col in aviation_data.columns]\n",
    "# create a Dataframe from the null_percentageabs\n",
    "null_percentages_df = pd.DataFrame(null_percentage, columns = [\"Column\", \"Null_Percentage\"])\n",
    "# Sort in a descending order  \n",
    "null_percentages_df = null_percentages_df.sort_values(by=\"Null_Percentage\", ascending = False)\n",
    "# print the sorted dataframe\n",
    "null_percentages_df"
   ]
  },
  {
   "cell_type": "markdown",
   "id": "c02ede5a-e863-444d-b2bd-32b3ef794cd6",
   "metadata": {},
   "source": [
    "I have chosen to eliminate columns with null values exceeding 35% to ensure the reliability of my results.\n"
   ]
  },
  {
   "cell_type": "markdown",
   "id": "a6560c61-b948-4a0e-8aba-29954f3838f2",
   "metadata": {},
   "source": [
    "#### Dropping Columns with Null_Percentages above 35%"
   ]
  },
  {
   "cell_type": "code",
   "execution_count": 18,
   "id": "349e7a9c-27cc-4a12-8afd-6e7d8da48a04",
   "metadata": {},
   "outputs": [
    {
     "name": "stdout",
     "output_type": "stream",
     "text": [
      "Columns dropped: ['schedule', 'air-carrier', 'far-description', 'aircraft-category', 'longitude', 'latitude', 'airport-code', 'airport-name']\n",
      "Cleaned Dataframe shape: (88889, 23)\n"
     ]
    },
    {
     "data": {
      "text/html": [
       "<div>\n",
       "<style scoped>\n",
       "    .dataframe tbody tr th:only-of-type {\n",
       "        vertical-align: middle;\n",
       "    }\n",
       "\n",
       "    .dataframe tbody tr th {\n",
       "        vertical-align: top;\n",
       "    }\n",
       "\n",
       "    .dataframe thead th {\n",
       "        text-align: right;\n",
       "    }\n",
       "</style>\n",
       "<table border=\"1\" class=\"dataframe\">\n",
       "  <thead>\n",
       "    <tr style=\"text-align: right;\">\n",
       "      <th></th>\n",
       "      <th>event-id</th>\n",
       "      <th>investigation-type</th>\n",
       "      <th>accident-number</th>\n",
       "      <th>event-date</th>\n",
       "      <th>location</th>\n",
       "      <th>country</th>\n",
       "      <th>injury-severity</th>\n",
       "      <th>aircraft-damage</th>\n",
       "      <th>registration-number</th>\n",
       "      <th>make</th>\n",
       "      <th>model</th>\n",
       "      <th>amateur-built</th>\n",
       "      <th>number-of-engines</th>\n",
       "      <th>engine-type</th>\n",
       "      <th>purpose-of-flight</th>\n",
       "      <th>total-fatal-injuries</th>\n",
       "      <th>total-serious-injuries</th>\n",
       "      <th>total-minor-injuries</th>\n",
       "      <th>total-uninjured</th>\n",
       "      <th>weather-condition</th>\n",
       "      <th>broad-phase-of-flight</th>\n",
       "      <th>report-status</th>\n",
       "      <th>publication-date</th>\n",
       "    </tr>\n",
       "  </thead>\n",
       "  <tbody>\n",
       "    <tr>\n",
       "      <th>0</th>\n",
       "      <td>20001218X45444</td>\n",
       "      <td>Accident</td>\n",
       "      <td>SEA87LA080</td>\n",
       "      <td>10/24/1948</td>\n",
       "      <td>MOOSE CREEK, ID</td>\n",
       "      <td>United States</td>\n",
       "      <td>Fatal(2)</td>\n",
       "      <td>Destroyed</td>\n",
       "      <td>NC6404</td>\n",
       "      <td>Stinson</td>\n",
       "      <td>108-3</td>\n",
       "      <td>No</td>\n",
       "      <td>1.0</td>\n",
       "      <td>Reciprocating</td>\n",
       "      <td>Personal</td>\n",
       "      <td>2.0</td>\n",
       "      <td>0.0</td>\n",
       "      <td>0.0</td>\n",
       "      <td>0.0</td>\n",
       "      <td>UNK</td>\n",
       "      <td>Cruise</td>\n",
       "      <td>Probable Cause</td>\n",
       "      <td>NaN</td>\n",
       "    </tr>\n",
       "    <tr>\n",
       "      <th>1</th>\n",
       "      <td>20001218X45447</td>\n",
       "      <td>Accident</td>\n",
       "      <td>LAX94LA336</td>\n",
       "      <td>7/19/1962</td>\n",
       "      <td>BRIDGEPORT, CA</td>\n",
       "      <td>United States</td>\n",
       "      <td>Fatal(4)</td>\n",
       "      <td>Destroyed</td>\n",
       "      <td>N5069P</td>\n",
       "      <td>Piper</td>\n",
       "      <td>PA24-180</td>\n",
       "      <td>No</td>\n",
       "      <td>1.0</td>\n",
       "      <td>Reciprocating</td>\n",
       "      <td>Personal</td>\n",
       "      <td>4.0</td>\n",
       "      <td>0.0</td>\n",
       "      <td>0.0</td>\n",
       "      <td>0.0</td>\n",
       "      <td>UNK</td>\n",
       "      <td>Unknown</td>\n",
       "      <td>Probable Cause</td>\n",
       "      <td>19-09-1996</td>\n",
       "    </tr>\n",
       "    <tr>\n",
       "      <th>2</th>\n",
       "      <td>20061025X01555</td>\n",
       "      <td>Accident</td>\n",
       "      <td>NYC07LA005</td>\n",
       "      <td>8/30/1974</td>\n",
       "      <td>Saltville, VA</td>\n",
       "      <td>United States</td>\n",
       "      <td>Fatal(3)</td>\n",
       "      <td>Destroyed</td>\n",
       "      <td>N5142R</td>\n",
       "      <td>Cessna</td>\n",
       "      <td>172M</td>\n",
       "      <td>No</td>\n",
       "      <td>1.0</td>\n",
       "      <td>Reciprocating</td>\n",
       "      <td>Personal</td>\n",
       "      <td>3.0</td>\n",
       "      <td>NaN</td>\n",
       "      <td>NaN</td>\n",
       "      <td>NaN</td>\n",
       "      <td>IMC</td>\n",
       "      <td>Cruise</td>\n",
       "      <td>Probable Cause</td>\n",
       "      <td>26-02-2007</td>\n",
       "    </tr>\n",
       "  </tbody>\n",
       "</table>\n",
       "</div>"
      ],
      "text/plain": [
       "         event-id investigation-type accident-number  event-date  \\\n",
       "0  20001218X45444           Accident      SEA87LA080  10/24/1948   \n",
       "1  20001218X45447           Accident      LAX94LA336   7/19/1962   \n",
       "2  20061025X01555           Accident      NYC07LA005   8/30/1974   \n",
       "\n",
       "          location        country injury-severity aircraft-damage  \\\n",
       "0  MOOSE CREEK, ID  United States        Fatal(2)       Destroyed   \n",
       "1   BRIDGEPORT, CA  United States        Fatal(4)       Destroyed   \n",
       "2    Saltville, VA  United States        Fatal(3)       Destroyed   \n",
       "\n",
       "  registration-number     make     model amateur-built  number-of-engines  \\\n",
       "0              NC6404  Stinson     108-3            No                1.0   \n",
       "1              N5069P    Piper  PA24-180            No                1.0   \n",
       "2              N5142R   Cessna      172M            No                1.0   \n",
       "\n",
       "     engine-type purpose-of-flight  total-fatal-injuries  \\\n",
       "0  Reciprocating          Personal                   2.0   \n",
       "1  Reciprocating          Personal                   4.0   \n",
       "2  Reciprocating          Personal                   3.0   \n",
       "\n",
       "   total-serious-injuries  total-minor-injuries  total-uninjured  \\\n",
       "0                     0.0                   0.0              0.0   \n",
       "1                     0.0                   0.0              0.0   \n",
       "2                     NaN                   NaN              NaN   \n",
       "\n",
       "  weather-condition broad-phase-of-flight   report-status publication-date  \n",
       "0               UNK                Cruise  Probable Cause              NaN  \n",
       "1               UNK               Unknown  Probable Cause       19-09-1996  \n",
       "2               IMC                Cruise  Probable Cause       26-02-2007  "
      ]
     },
     "execution_count": 18,
     "metadata": {},
     "output_type": "execute_result"
    }
   ],
   "source": [
    "# Filter columns to drop with null percentage of above 35%\n",
    "columns_to_drop = null_percentages_df[null_percentages_df[\"Null_Percentage\"] > 35][\"Column\"]\n",
    "aviation_data_df = aviation_data.drop(columns=columns_to_drop)\n",
    "\n",
    "# Display the cleaned DataFrame and the columns dropped\n",
    "print(\"Columns dropped:\", columns_to_drop.tolist())\n",
    "print(\"Cleaned Dataframe shape:\", aviation_data_df.shape)\n",
    "aviation_data_df.head(3)"
   ]
  },
  {
   "cell_type": "markdown",
   "id": "7992065e-bff8-4326-817f-566210c0c7a0",
   "metadata": {},
   "source": [
    "I have identified certain columns in my dataset that do not contribute to my analysis, and I have opted to exclude them."
   ]
  },
  {
   "cell_type": "markdown",
   "id": "1205b434-1195-4a29-93d9-abf0d0ad3fe1",
   "metadata": {},
   "source": [
    "#### Handling the irrelevant columns in my dataset\n"
   ]
  },
  {
   "cell_type": "code",
   "execution_count": 19,
   "id": "6e610773-1a5a-426c-9ea2-55082c1be591",
   "metadata": {},
   "outputs": [
    {
     "data": {
      "text/plain": [
       "(88889, 18)"
      ]
     },
     "execution_count": 19,
     "metadata": {},
     "output_type": "execute_result"
    }
   ],
   "source": [
    "# Columns that I feel will not impact my analysis in any way\n",
    "irrelavant_columns = [\n",
    "    \"event-id\", \n",
    "    \"accident-number\", \n",
    "    \"publication-date\", \n",
    "    \"report-status\", \n",
    "    \"registration-number\", \n",
    "]\n",
    "# Dropping the irrelevant columns\n",
    "aviation_data_df_updated = aviation_data_df.drop(columns=irrelavant_columns)\n",
    "# Displaying the shape of the updated DataFrame\n",
    "aviation_data_df_updated.shape"
   ]
  },
  {
   "cell_type": "markdown",
   "id": "733c2844-f899-44ed-a919-d012dbdfac39",
   "metadata": {},
   "source": [
    "#### Handling missing values"
   ]
  },
  {
   "cell_type": "code",
   "execution_count": 20,
   "id": "c9a86c1f-603e-4d16-977b-7ec36d2bc78d",
   "metadata": {},
   "outputs": [],
   "source": [
    "# making a copy of this dataframe so far \n",
    "aviation_data_df1 = aviation_data_df_updated.copy()"
   ]
  },
  {
   "cell_type": "code",
   "execution_count": 21,
   "id": "9d081df5-1d9e-42e3-ba56-08f5a23b1b16",
   "metadata": {},
   "outputs": [],
   "source": [
    "# Identify columns with fewer null values\n",
    "columns_with_less_null = [\"location\", \"make\", \"model\", \"amateur-built\", \"country\"]\n",
    "\n",
    "# Drop the rows with null values in specified columns\n",
    "aviation_data_df2 = aviation_data_df_updated.dropna(subset=columns_with_less_null)"
   ]
  },
  {
   "cell_type": "code",
   "execution_count": 22,
   "id": "ed23fd71-7a26-4594-8d15-fff4893d143b",
   "metadata": {},
   "outputs": [
    {
     "data": {
      "text/plain": [
       "investigation-type            0\n",
       "event-date                    0\n",
       "location                      0\n",
       "country                       0\n",
       "injury-severity             979\n",
       "aircraft-damage            3134\n",
       "make                          0\n",
       "model                         0\n",
       "amateur-built                 0\n",
       "number-of-engines          5913\n",
       "engine-type                6940\n",
       "purpose-of-flight          6060\n",
       "total-fatal-injuries      11299\n",
       "total-serious-injuries    12378\n",
       "total-minor-injuries      11797\n",
       "total-uninjured            5813\n",
       "weather-condition          4375\n",
       "broad-phase-of-flight     26970\n",
       "dtype: int64"
      ]
     },
     "execution_count": 22,
     "metadata": {},
     "output_type": "execute_result"
    }
   ],
   "source": [
    "# check for null \n",
    "aviation_data_df2.isna().sum()"
   ]
  },
  {
   "cell_type": "code",
   "execution_count": 23,
   "id": "833e8696-537a-42da-aa22-8932f1e34720",
   "metadata": {},
   "outputs": [],
   "source": [
    " #While exploring the dataframe, I realised United States is overrepresented in Country column\n",
    "# more than 90% of the Country column is the United States. As I wanted to focus on the US aviation accidents\n",
    "# I create a new dataframe df_us to focus on the United States\n",
    "#df_clean['Country'].value_counts()"
   ]
  },
  {
   "cell_type": "code",
   "execution_count": 24,
   "id": "9a1746d5-99a6-417b-8fbf-8081d1e4e5dd",
   "metadata": {},
   "outputs": [],
   "source": [
    "# Filling Nulls with \"Unknown\" in categorical columns\n",
    "columns_to_fill_2 = [\n",
    "    \"engine-type\",\n",
    "    \"purpose-of-flight\",\n",
    "    \"broad-phase-of-flight\",\n",
    "    \"aircraft-damage\",\n",
    "    \"weather-condition\"\n",
    "]\n",
    "\n",
    "for column in columns_to_fill_2:\n",
    "    aviation_data_df2.loc[:, column] = aviation_data_df2[column].fillna(\"Unknown\")"
   ]
  },
  {
   "cell_type": "markdown",
   "id": "e6552e63-ef81-4337-af74-6f13c40b03e2",
   "metadata": {},
   "source": [
    "I have opted to fill null values with \"Unknown\" for categorical columns to maintain the integrity of the dataset while ensuring that less data is lost. This approach allows me to retain most records, which is crucial for accurate analysis. By using \"unknown,\" I can differentiate between missing information and actual data, facilitating better insights into patterns and trends. Additionally, this method allows for proper categorization in analyses and visualizations, ensuring that the impact of missing data is minimized while still acknowledging its presence."
   ]
  },
  {
   "cell_type": "code",
   "execution_count": 25,
   "id": "e5a16df9-a365-4b04-9e2b-fd50c0812151",
   "metadata": {},
   "outputs": [
    {
     "data": {
      "text/plain": [
       "investigation-type            0\n",
       "event-date                    0\n",
       "location                      0\n",
       "country                       0\n",
       "injury-severity             979\n",
       "aircraft-damage               0\n",
       "make                          0\n",
       "model                         0\n",
       "amateur-built                 0\n",
       "number-of-engines          5913\n",
       "engine-type                   0\n",
       "purpose-of-flight             0\n",
       "total-fatal-injuries      11299\n",
       "total-serious-injuries    12378\n",
       "total-minor-injuries      11797\n",
       "total-uninjured            5813\n",
       "weather-condition             0\n",
       "broad-phase-of-flight         0\n",
       "dtype: int64"
      ]
     },
     "execution_count": 25,
     "metadata": {},
     "output_type": "execute_result"
    }
   ],
   "source": [
    "# Ckecking for nuls again\n",
    "aviation_data_df2.isna().sum()"
   ]
  },
  {
   "cell_type": "code",
   "execution_count": 26,
   "id": "927f5eb1-029c-4d8a-9fd3-6ebdabe7d060",
   "metadata": {},
   "outputs": [
    {
     "name": "stderr",
     "output_type": "stream",
     "text": [
      "C:\\Users\\Damaris\\AppData\\Local\\Temp\\ipykernel_9800\\2647346819.py:16: SettingWithCopyWarning: \n",
      "A value is trying to be set on a copy of a slice from a DataFrame.\n",
      "Try using .loc[row_indexer,col_indexer] = value instead\n",
      "\n",
      "See the caveats in the documentation: https://pandas.pydata.org/pandas-docs/stable/user_guide/indexing.html#returning-a-view-versus-a-copy\n",
      "  aviation_data_df2[col] = aviation_data_df2[col].fillna(0)\n"
     ]
    }
   ],
   "source": [
    "# Filling nulls in numerical columns\n",
    "# Fill the nulls with zror in numerical columns\n",
    "columns_to_fill = [\n",
    "    \"total-minor-injuries\",\n",
    "    \"total-serious-injuries\",\n",
    "    \"total-fatal-injuries\",\n",
    "    \"injury-severity\",\n",
    "    \"number-of-engines\",\n",
    "    \"injury-severity\",\n",
    "    \"total-uninjured\"\n",
    "    \n",
    "]\n",
    "\n",
    "# Using a for loop to fill nulls with 0 \n",
    "for col in columns_to_fill:\n",
    "    aviation_data_df2[col] = aviation_data_df2[col].fillna(0)"
   ]
  },
  {
   "cell_type": "code",
   "execution_count": 27,
   "id": "c2237e37-82bd-402b-8927-09f054369397",
   "metadata": {},
   "outputs": [
    {
     "data": {
      "text/plain": [
       "investigation-type        0\n",
       "event-date                0\n",
       "location                  0\n",
       "country                   0\n",
       "injury-severity           0\n",
       "aircraft-damage           0\n",
       "make                      0\n",
       "model                     0\n",
       "amateur-built             0\n",
       "number-of-engines         0\n",
       "engine-type               0\n",
       "purpose-of-flight         0\n",
       "total-fatal-injuries      0\n",
       "total-serious-injuries    0\n",
       "total-minor-injuries      0\n",
       "total-uninjured           0\n",
       "weather-condition         0\n",
       "broad-phase-of-flight     0\n",
       "dtype: int64"
      ]
     },
     "execution_count": 27,
     "metadata": {},
     "output_type": "execute_result"
    }
   ],
   "source": [
    "aviation_data_df2.isna().sum()"
   ]
  },
  {
   "cell_type": "markdown",
   "id": "5d7fba41-2275-46f7-902b-38d738a4e093",
   "metadata": {},
   "source": [
    "I have decided to fill the missing values with 0 in this dataset because it is an effective strategy in regard to our objective of assessing which aircraft make, model etc has lowest risks.\n",
    "My thinking is that 0 indicates that missing data can mean no injuries, accurately reflecting the absence of incidents. This approach also maintains the overall size of the dataset, ensuring that most rows are included for thorough analysis. By using 0, we enable statistical methods to run smoothly without errors. Additionally, this method clarifies the results, simplifying the understanding of safety trends. Lastly, it facilitates consistent comparisons across different cases, enhancing the integrity and clarity of the analysis. Overall, using 0 for missing values improves both the quality and interpretability of the data."
   ]
  },
  {
   "cell_type": "code",
   "execution_count": 28,
   "id": "27a9f448-c4e5-4d4b-afde-bebb4435f2b2",
   "metadata": {},
   "outputs": [],
   "source": [
    "# make a copy \n",
    "aviation_data_df3 = aviation_data_df2.copy()"
   ]
  },
  {
   "cell_type": "markdown",
   "id": "44d3c883-b2e6-405e-9026-6525be753afa",
   "metadata": {},
   "source": [
    "##### Check for unique values"
   ]
  },
  {
   "cell_type": "code",
   "execution_count": 29,
   "id": "276cef79-cebb-469d-b7c3-0488d2821865",
   "metadata": {},
   "outputs": [
    {
     "data": {
      "text/plain": [
       "array(['UNK', 'IMC', 'VMC', 'Unknown', 'Unk'], dtype=object)"
      ]
     },
     "execution_count": 29,
     "metadata": {},
     "output_type": "execute_result"
    }
   ],
   "source": [
    "# check for unique values in weather condition\n",
    "aviation_data_df2[\"weather-condition\"].unique()"
   ]
  },
  {
   "cell_type": "code",
   "execution_count": 30,
   "id": "a98afedf-29a3-4676-be4c-2238e6cb4f1b",
   "metadata": {},
   "outputs": [
    {
     "data": {
      "text/plain": [
       "0        Unknown\n",
       "1        Unknown\n",
       "2            IMC\n",
       "3            IMC\n",
       "4            VMC\n",
       "          ...   \n",
       "88884    Unknown\n",
       "88885    Unknown\n",
       "88886        VMC\n",
       "88887    Unknown\n",
       "88888    Unknown\n",
       "Name: weather-condition, Length: 88406, dtype: object"
      ]
     },
     "execution_count": 30,
     "metadata": {},
     "output_type": "execute_result"
    }
   ],
   "source": [
    "# fixing the unique values in weather conditions and replacing the UNK, unk with unknown\n",
    "aviation_data_df2[\"weather-condition\"].replace([\"UNK\", \"unknown\", \"unk\"], \"Unknown\")"
   ]
  },
  {
   "cell_type": "code",
   "execution_count": 31,
   "id": "916f3989-7745-4d01-86a2-6dae1ed66f7d",
   "metadata": {},
   "outputs": [
    {
     "data": {
      "text/plain": [
       "make\n",
       "Cessna               22159\n",
       "Piper                11990\n",
       "CESSNA                4919\n",
       "Beech                 4313\n",
       "PIPER                 2840\n",
       "Bell                  2061\n",
       "Boeing                1543\n",
       "BOEING                1145\n",
       "Grumman               1091\n",
       "Mooney                1089\n",
       "BEECH                 1041\n",
       "Robinson               939\n",
       "Bellanca               885\n",
       "Hughes                 790\n",
       "Schweizer              627\n",
       "Air Tractor            595\n",
       "BELL                   588\n",
       "Mcdonnell Douglas      517\n",
       "Aeronca                486\n",
       "Maule                  445\n",
       "Name: count, dtype: int64"
      ]
     },
     "execution_count": 31,
     "metadata": {},
     "output_type": "execute_result"
    }
   ],
   "source": [
    "# checking for unique values in make ccolumn\n",
    "aviation_data_df2[\"make\"].value_counts().head(20)"
   ]
  },
  {
   "cell_type": "code",
   "execution_count": 32,
   "id": "19fef895-7bb7-4056-a870-676ccc5a5db9",
   "metadata": {},
   "outputs": [
    {
     "name": "stderr",
     "output_type": "stream",
     "text": [
      "C:\\Users\\Damaris\\AppData\\Local\\Temp\\ipykernel_9800\\1026951304.py:2: SettingWithCopyWarning: \n",
      "A value is trying to be set on a copy of a slice from a DataFrame.\n",
      "Try using .loc[row_indexer,col_indexer] = value instead\n",
      "\n",
      "See the caveats in the documentation: https://pandas.pydata.org/pandas-docs/stable/user_guide/indexing.html#returning-a-view-versus-a-copy\n",
      "  aviation_data_df2[\"make\"] = aviation_data_df2[\"make\"].str.lower().str.capitalize()\n"
     ]
    },
    {
     "data": {
      "text/plain": [
       "make\n",
       "Cessna               27078\n",
       "Piper                14830\n",
       "Beech                 5354\n",
       "Boeing                2688\n",
       "Bell                  2649\n",
       "Mooney                1331\n",
       "Robinson              1222\n",
       "Grumman               1169\n",
       "Bellanca              1044\n",
       "Hughes                 927\n",
       "Schweizer              771\n",
       "Air tractor            691\n",
       "Aeronca                635\n",
       "Mcdonnell douglas      599\n",
       "Maule                  589\n",
       "Champion               519\n",
       "Stinson                439\n",
       "Aero commander         427\n",
       "De havilland           421\n",
       "Luscombe               414\n",
       "Name: count, dtype: int64"
      ]
     },
     "execution_count": 32,
     "metadata": {},
     "output_type": "execute_result"
    }
   ],
   "source": [
    "# fix the cases in make colums \n",
    "aviation_data_df2[\"make\"] = aviation_data_df2[\"make\"].str.lower().str.capitalize()\n",
    "aviation_data_df2[\"make\"].value_counts().head(20)"
   ]
  },
  {
   "cell_type": "code",
   "execution_count": 33,
   "id": "585aab82-462f-498f-9698-3d878b5eae8e",
   "metadata": {},
   "outputs": [
    {
     "data": {
      "text/plain": [
       "country\n",
       "United States               82167\n",
       "Brazil                        368\n",
       "Mexico                        357\n",
       "Canada                        354\n",
       "United Kingdom                335\n",
       "                            ...  \n",
       "Mauritania                      1\n",
       "Pacific Ocean                   1\n",
       "Obyan                           1\n",
       "Guernsey                        1\n",
       "Turks and Caicos Islands        1\n",
       "Name: count, Length: 214, dtype: int64"
      ]
     },
     "execution_count": 33,
     "metadata": {},
     "output_type": "execute_result"
    }
   ],
   "source": [
    "# check unique value in country\n",
    "aviation_data_df2[\"country\"].value_counts()"
   ]
  },
  {
   "cell_type": "code",
   "execution_count": null,
   "id": "4cd19aa3-7b26-4358-bc8c-171f9d941426",
   "metadata": {},
   "outputs": [],
   "source": []
  },
  {
   "cell_type": "markdown",
   "id": "2725ff2d-0c49-451c-8eed-6ba5bbfcc4c9",
   "metadata": {},
   "source": [
    "#### Date Conversion"
   ]
  },
  {
   "cell_type": "code",
   "execution_count": 34,
   "id": "e1e77780-7b6f-492f-8569-f347897a8a10",
   "metadata": {},
   "outputs": [
    {
     "data": {
      "text/plain": [
       "0    10/24/1948\n",
       "1     7/19/1962\n",
       "2     8/30/1974\n",
       "3     6/19/1977\n",
       "4      8/2/1979\n",
       "Name: event-date, dtype: object"
      ]
     },
     "execution_count": 34,
     "metadata": {},
     "output_type": "execute_result"
    }
   ],
   "source": [
    "aviation_data_df2[\"event-date\"].head()"
   ]
  },
  {
   "cell_type": "code",
   "execution_count": 35,
   "id": "d4312866-c843-4ecd-9888-97a27f720412",
   "metadata": {},
   "outputs": [
    {
     "name": "stdout",
     "output_type": "stream",
     "text": [
      "event-date has changed from object to 0   1948-10-24\n",
      "1   1962-07-19\n",
      "2   1974-08-30\n",
      "3   1977-06-19\n",
      "4   1979-08-02\n",
      "Name: event-date, dtype: datetime64[ns]\n"
     ]
    }
   ],
   "source": [
    "# pd.to_datetime()\n",
    "print(f\"event-date has changed from object to {pd.to_datetime(aviation_data_df2[\"event-date\"]).head()}\")"
   ]
  },
  {
   "cell_type": "code",
   "execution_count": 36,
   "id": "51e60c48-c950-490f-963a-63e339c25c42",
   "metadata": {},
   "outputs": [
    {
     "name": "stdout",
     "output_type": "stream",
     "text": [
      "0   1948-10-24\n",
      "1   1962-07-19\n",
      "2   1974-08-30\n",
      "Name: event-date, dtype: datetime64[ns]\n"
     ]
    },
    {
     "name": "stderr",
     "output_type": "stream",
     "text": [
      "C:\\Users\\Damaris\\AppData\\Local\\Temp\\ipykernel_9800\\3532283804.py:2: SettingWithCopyWarning: \n",
      "A value is trying to be set on a copy of a slice from a DataFrame.\n",
      "Try using .loc[row_indexer,col_indexer] = value instead\n",
      "\n",
      "See the caveats in the documentation: https://pandas.pydata.org/pandas-docs/stable/user_guide/indexing.html#returning-a-view-versus-a-copy\n",
      "  aviation_data_df2[\"event-date\"] = pd.to_datetime(aviation_data_df2[\"event-date\"])\n",
      "C:\\Users\\Damaris\\AppData\\Local\\Temp\\ipykernel_9800\\3532283804.py:6: SettingWithCopyWarning: \n",
      "A value is trying to be set on a copy of a slice from a DataFrame.\n",
      "Try using .loc[row_indexer,col_indexer] = value instead\n",
      "\n",
      "See the caveats in the documentation: https://pandas.pydata.org/pandas-docs/stable/user_guide/indexing.html#returning-a-view-versus-a-copy\n",
      "  aviation_data_df2[\"event-year\"] = aviation_data_df2[\"event-date\"].dt.year\n"
     ]
    }
   ],
   "source": [
    "# Change the whole dataset Event.Date\n",
    "aviation_data_df2[\"event-date\"] = pd.to_datetime(aviation_data_df2[\"event-date\"])\n",
    "print(aviation_data_df2[\"event-date\"].head(3))  \n",
    "\n",
    "# the year from event date' to analyze trends over time\n",
    "aviation_data_df2[\"event-year\"] = aviation_data_df2[\"event-date\"].dt.year"
   ]
  },
  {
   "cell_type": "code",
   "execution_count": 37,
   "id": "c11f4658-b2f4-4979-ac54-13f8c0af14cc",
   "metadata": {},
   "outputs": [
    {
     "data": {
      "text/plain": [
       "np.int64(35)"
      ]
     },
     "execution_count": 37,
     "metadata": {},
     "output_type": "execute_result"
    }
   ],
   "source": [
    "# check for duplicates again\n",
    "aviation_data_df2.duplicated().sum()"
   ]
  },
  {
   "cell_type": "code",
   "execution_count": 38,
   "id": "69fb1ba3-d4ea-4c00-86b5-8805c17fd18c",
   "metadata": {},
   "outputs": [
    {
     "name": "stdout",
     "output_type": "stream",
     "text": [
      "cleaned data has 0 duplicates\n"
     ]
    }
   ],
   "source": [
    "# Removing the Duplicates\n",
    "aviation_data_df2_cleaned = aviation_data_df2.drop_duplicates()\n",
    "print(f\"cleaned data has {aviation_data_df2_cleaned.duplicated().sum()} duplicates\")"
   ]
  },
  {
   "cell_type": "code",
   "execution_count": 39,
   "id": "d311fae2-2aaa-4d7c-b464-2a44534bacc1",
   "metadata": {},
   "outputs": [],
   "source": [
    "# make a copy and Save the cleaned data to csv\n",
    "df_cleaned = aviation_data_df2_cleaned.copy()\n",
    "aviation_data_df2_cleaned.to_csv(\"cleaned_aviation_data.csv\", index=False)\n"
   ]
  },
  {
   "cell_type": "code",
   "execution_count": 40,
   "id": "74136a0f-32c9-478d-a581-2ee64c951db2",
   "metadata": {},
   "outputs": [],
   "source": [
    "# For easier analysis am renaming my dataset. i will use this for analysis\n",
    "aviation_df = aviation_data_df2_cleaned"
   ]
  },
  {
   "cell_type": "markdown",
   "id": "a6514636-187d-43b8-a629-b7a514bd736f",
   "metadata": {},
   "source": [
    "# Exploratory Data Analysis"
   ]
  },
  {
   "cell_type": "markdown",
   "id": "a75497c3-cdf5-44b5-a0eb-68a605e8d2c5",
   "metadata": {},
   "source": [
    "I have started by grouping the total injury together and calcuting the risk rate column that i will use for my visuals"
   ]
  },
  {
   "cell_type": "code",
   "execution_count": 41,
   "id": "6ad27760-7ca1-4207-811d-98a64b6232d2",
   "metadata": {},
   "outputs": [
    {
     "name": "stderr",
     "output_type": "stream",
     "text": [
      "C:\\Users\\Damaris\\AppData\\Local\\Temp\\ipykernel_9800\\803331414.py:7: SettingWithCopyWarning: \n",
      "A value is trying to be set on a copy of a slice from a DataFrame.\n",
      "Try using .loc[row_indexer,col_indexer] = value instead\n",
      "\n",
      "See the caveats in the documentation: https://pandas.pydata.org/pandas-docs/stable/user_guide/indexing.html#returning-a-view-versus-a-copy\n",
      "  aviation_df[\"risk_score\"] = (\n"
     ]
    },
    {
     "data": {
      "text/html": [
       "<div>\n",
       "<style scoped>\n",
       "    .dataframe tbody tr th:only-of-type {\n",
       "        vertical-align: middle;\n",
       "    }\n",
       "\n",
       "    .dataframe tbody tr th {\n",
       "        vertical-align: top;\n",
       "    }\n",
       "\n",
       "    .dataframe thead th {\n",
       "        text-align: right;\n",
       "    }\n",
       "</style>\n",
       "<table border=\"1\" class=\"dataframe\">\n",
       "  <thead>\n",
       "    <tr style=\"text-align: right;\">\n",
       "      <th></th>\n",
       "      <th>investigation-type</th>\n",
       "      <th>event-date</th>\n",
       "      <th>location</th>\n",
       "      <th>country</th>\n",
       "      <th>injury-severity</th>\n",
       "      <th>aircraft-damage</th>\n",
       "      <th>make</th>\n",
       "      <th>model</th>\n",
       "      <th>amateur-built</th>\n",
       "      <th>number-of-engines</th>\n",
       "      <th>engine-type</th>\n",
       "      <th>purpose-of-flight</th>\n",
       "      <th>total-fatal-injuries</th>\n",
       "      <th>total-serious-injuries</th>\n",
       "      <th>total-minor-injuries</th>\n",
       "      <th>total-uninjured</th>\n",
       "      <th>weather-condition</th>\n",
       "      <th>broad-phase-of-flight</th>\n",
       "      <th>event-year</th>\n",
       "      <th>risk_score</th>\n",
       "    </tr>\n",
       "  </thead>\n",
       "  <tbody>\n",
       "    <tr>\n",
       "      <th>0</th>\n",
       "      <td>Accident</td>\n",
       "      <td>1948-10-24</td>\n",
       "      <td>MOOSE CREEK, ID</td>\n",
       "      <td>United States</td>\n",
       "      <td>Fatal(2)</td>\n",
       "      <td>Destroyed</td>\n",
       "      <td>Stinson</td>\n",
       "      <td>108-3</td>\n",
       "      <td>No</td>\n",
       "      <td>1.0</td>\n",
       "      <td>Reciprocating</td>\n",
       "      <td>Personal</td>\n",
       "      <td>2.0</td>\n",
       "      <td>0.0</td>\n",
       "      <td>0.0</td>\n",
       "      <td>0.0</td>\n",
       "      <td>UNK</td>\n",
       "      <td>Cruise</td>\n",
       "      <td>1948</td>\n",
       "      <td>1.2</td>\n",
       "    </tr>\n",
       "    <tr>\n",
       "      <th>1</th>\n",
       "      <td>Accident</td>\n",
       "      <td>1962-07-19</td>\n",
       "      <td>BRIDGEPORT, CA</td>\n",
       "      <td>United States</td>\n",
       "      <td>Fatal(4)</td>\n",
       "      <td>Destroyed</td>\n",
       "      <td>Piper</td>\n",
       "      <td>PA24-180</td>\n",
       "      <td>No</td>\n",
       "      <td>1.0</td>\n",
       "      <td>Reciprocating</td>\n",
       "      <td>Personal</td>\n",
       "      <td>4.0</td>\n",
       "      <td>0.0</td>\n",
       "      <td>0.0</td>\n",
       "      <td>0.0</td>\n",
       "      <td>UNK</td>\n",
       "      <td>Unknown</td>\n",
       "      <td>1962</td>\n",
       "      <td>2.4</td>\n",
       "    </tr>\n",
       "    <tr>\n",
       "      <th>2</th>\n",
       "      <td>Accident</td>\n",
       "      <td>1974-08-30</td>\n",
       "      <td>Saltville, VA</td>\n",
       "      <td>United States</td>\n",
       "      <td>Fatal(3)</td>\n",
       "      <td>Destroyed</td>\n",
       "      <td>Cessna</td>\n",
       "      <td>172M</td>\n",
       "      <td>No</td>\n",
       "      <td>1.0</td>\n",
       "      <td>Reciprocating</td>\n",
       "      <td>Personal</td>\n",
       "      <td>3.0</td>\n",
       "      <td>0.0</td>\n",
       "      <td>0.0</td>\n",
       "      <td>0.0</td>\n",
       "      <td>IMC</td>\n",
       "      <td>Cruise</td>\n",
       "      <td>1974</td>\n",
       "      <td>1.8</td>\n",
       "    </tr>\n",
       "  </tbody>\n",
       "</table>\n",
       "</div>"
      ],
      "text/plain": [
       "  investigation-type event-date         location        country  \\\n",
       "0           Accident 1948-10-24  MOOSE CREEK, ID  United States   \n",
       "1           Accident 1962-07-19   BRIDGEPORT, CA  United States   \n",
       "2           Accident 1974-08-30    Saltville, VA  United States   \n",
       "\n",
       "  injury-severity aircraft-damage     make     model amateur-built  \\\n",
       "0        Fatal(2)       Destroyed  Stinson     108-3            No   \n",
       "1        Fatal(4)       Destroyed    Piper  PA24-180            No   \n",
       "2        Fatal(3)       Destroyed   Cessna      172M            No   \n",
       "\n",
       "   number-of-engines    engine-type purpose-of-flight  total-fatal-injuries  \\\n",
       "0                1.0  Reciprocating          Personal                   2.0   \n",
       "1                1.0  Reciprocating          Personal                   4.0   \n",
       "2                1.0  Reciprocating          Personal                   3.0   \n",
       "\n",
       "   total-serious-injuries  total-minor-injuries  total-uninjured  \\\n",
       "0                     0.0                   0.0              0.0   \n",
       "1                     0.0                   0.0              0.0   \n",
       "2                     0.0                   0.0              0.0   \n",
       "\n",
       "  weather-condition broad-phase-of-flight  event-year  risk_score  \n",
       "0               UNK                Cruise        1948         1.2  \n",
       "1               UNK               Unknown        1962         2.4  \n",
       "2               IMC                Cruise        1974         1.8  "
      ]
     },
     "execution_count": 41,
     "metadata": {},
     "output_type": "execute_result"
    }
   ],
   "source": [
    "# Assigning the weights\n",
    "fatal_weight = 0.60\n",
    "serious_weight = 0.30\n",
    "minor_weight = 0.10\n",
    "\n",
    "# Calculate risk score correctly by summing up the weighted values\n",
    "aviation_df[\"risk_score\"] = (\n",
    "    aviation_df[\"total-fatal-injuries\"] * fatal_weight +\n",
    "    aviation_df[\"total-serious-injuries\"] * serious_weight +\n",
    "    aviation_df[\"total-minor-injuries\"] * minor_weight\n",
    ")\n",
    "aviation_df.head(3)"
   ]
  },
  {
   "cell_type": "markdown",
   "id": "198efe4d-14de-41a5-8689-0e1439b69828",
   "metadata": {},
   "source": [
    "### Evaluate the risk rate over the years"
   ]
  },
  {
   "cell_type": "code",
   "execution_count": 42,
   "id": "94eee955-d0b9-4676-865e-e9a2f5962ac6",
   "metadata": {},
   "outputs": [
    {
     "name": "stdout",
     "output_type": "stream",
     "text": [
      "0   1948-10-24\n",
      "1   1962-07-19\n",
      "2   1974-08-30\n",
      "Name: event-date, dtype: datetime64[ns]\n"
     ]
    },
    {
     "name": "stderr",
     "output_type": "stream",
     "text": [
      "C:\\Users\\Damaris\\AppData\\Local\\Temp\\ipykernel_9800\\2151655288.py:2: SettingWithCopyWarning: \n",
      "A value is trying to be set on a copy of a slice from a DataFrame.\n",
      "Try using .loc[row_indexer,col_indexer] = value instead\n",
      "\n",
      "See the caveats in the documentation: https://pandas.pydata.org/pandas-docs/stable/user_guide/indexing.html#returning-a-view-versus-a-copy\n",
      "  aviation_df[\"event-date\"] = pd.to_datetime(aviation_df[\"event-date\"])\n",
      "C:\\Users\\Damaris\\AppData\\Local\\Temp\\ipykernel_9800\\2151655288.py:6: SettingWithCopyWarning: \n",
      "A value is trying to be set on a copy of a slice from a DataFrame.\n",
      "Try using .loc[row_indexer,col_indexer] = value instead\n",
      "\n",
      "See the caveats in the documentation: https://pandas.pydata.org/pandas-docs/stable/user_guide/indexing.html#returning-a-view-versus-a-copy\n",
      "  aviation_df[\"year\"] = aviation_data_df2[\"event-date\"].dt.year\n"
     ]
    },
    {
     "data": {
      "text/html": [
       "<div>\n",
       "<style scoped>\n",
       "    .dataframe tbody tr th:only-of-type {\n",
       "        vertical-align: middle;\n",
       "    }\n",
       "\n",
       "    .dataframe tbody tr th {\n",
       "        vertical-align: top;\n",
       "    }\n",
       "\n",
       "    .dataframe thead th {\n",
       "        text-align: right;\n",
       "    }\n",
       "</style>\n",
       "<table border=\"1\" class=\"dataframe\">\n",
       "  <thead>\n",
       "    <tr style=\"text-align: right;\">\n",
       "      <th></th>\n",
       "      <th>investigation-type</th>\n",
       "      <th>event-date</th>\n",
       "      <th>location</th>\n",
       "      <th>country</th>\n",
       "      <th>injury-severity</th>\n",
       "      <th>aircraft-damage</th>\n",
       "      <th>make</th>\n",
       "      <th>model</th>\n",
       "      <th>amateur-built</th>\n",
       "      <th>number-of-engines</th>\n",
       "      <th>engine-type</th>\n",
       "      <th>purpose-of-flight</th>\n",
       "      <th>total-fatal-injuries</th>\n",
       "      <th>total-serious-injuries</th>\n",
       "      <th>total-minor-injuries</th>\n",
       "      <th>total-uninjured</th>\n",
       "      <th>weather-condition</th>\n",
       "      <th>broad-phase-of-flight</th>\n",
       "      <th>event-year</th>\n",
       "      <th>risk_score</th>\n",
       "      <th>year</th>\n",
       "    </tr>\n",
       "  </thead>\n",
       "  <tbody>\n",
       "    <tr>\n",
       "      <th>0</th>\n",
       "      <td>Accident</td>\n",
       "      <td>1948-10-24</td>\n",
       "      <td>MOOSE CREEK, ID</td>\n",
       "      <td>United States</td>\n",
       "      <td>Fatal(2)</td>\n",
       "      <td>Destroyed</td>\n",
       "      <td>Stinson</td>\n",
       "      <td>108-3</td>\n",
       "      <td>No</td>\n",
       "      <td>1.0</td>\n",
       "      <td>Reciprocating</td>\n",
       "      <td>Personal</td>\n",
       "      <td>2.0</td>\n",
       "      <td>0.0</td>\n",
       "      <td>0.0</td>\n",
       "      <td>0.0</td>\n",
       "      <td>UNK</td>\n",
       "      <td>Cruise</td>\n",
       "      <td>1948</td>\n",
       "      <td>1.2</td>\n",
       "      <td>1948</td>\n",
       "    </tr>\n",
       "    <tr>\n",
       "      <th>1</th>\n",
       "      <td>Accident</td>\n",
       "      <td>1962-07-19</td>\n",
       "      <td>BRIDGEPORT, CA</td>\n",
       "      <td>United States</td>\n",
       "      <td>Fatal(4)</td>\n",
       "      <td>Destroyed</td>\n",
       "      <td>Piper</td>\n",
       "      <td>PA24-180</td>\n",
       "      <td>No</td>\n",
       "      <td>1.0</td>\n",
       "      <td>Reciprocating</td>\n",
       "      <td>Personal</td>\n",
       "      <td>4.0</td>\n",
       "      <td>0.0</td>\n",
       "      <td>0.0</td>\n",
       "      <td>0.0</td>\n",
       "      <td>UNK</td>\n",
       "      <td>Unknown</td>\n",
       "      <td>1962</td>\n",
       "      <td>2.4</td>\n",
       "      <td>1962</td>\n",
       "    </tr>\n",
       "    <tr>\n",
       "      <th>2</th>\n",
       "      <td>Accident</td>\n",
       "      <td>1974-08-30</td>\n",
       "      <td>Saltville, VA</td>\n",
       "      <td>United States</td>\n",
       "      <td>Fatal(3)</td>\n",
       "      <td>Destroyed</td>\n",
       "      <td>Cessna</td>\n",
       "      <td>172M</td>\n",
       "      <td>No</td>\n",
       "      <td>1.0</td>\n",
       "      <td>Reciprocating</td>\n",
       "      <td>Personal</td>\n",
       "      <td>3.0</td>\n",
       "      <td>0.0</td>\n",
       "      <td>0.0</td>\n",
       "      <td>0.0</td>\n",
       "      <td>IMC</td>\n",
       "      <td>Cruise</td>\n",
       "      <td>1974</td>\n",
       "      <td>1.8</td>\n",
       "      <td>1974</td>\n",
       "    </tr>\n",
       "  </tbody>\n",
       "</table>\n",
       "</div>"
      ],
      "text/plain": [
       "  investigation-type event-date         location        country  \\\n",
       "0           Accident 1948-10-24  MOOSE CREEK, ID  United States   \n",
       "1           Accident 1962-07-19   BRIDGEPORT, CA  United States   \n",
       "2           Accident 1974-08-30    Saltville, VA  United States   \n",
       "\n",
       "  injury-severity aircraft-damage     make     model amateur-built  \\\n",
       "0        Fatal(2)       Destroyed  Stinson     108-3            No   \n",
       "1        Fatal(4)       Destroyed    Piper  PA24-180            No   \n",
       "2        Fatal(3)       Destroyed   Cessna      172M            No   \n",
       "\n",
       "   number-of-engines    engine-type purpose-of-flight  total-fatal-injuries  \\\n",
       "0                1.0  Reciprocating          Personal                   2.0   \n",
       "1                1.0  Reciprocating          Personal                   4.0   \n",
       "2                1.0  Reciprocating          Personal                   3.0   \n",
       "\n",
       "   total-serious-injuries  total-minor-injuries  total-uninjured  \\\n",
       "0                     0.0                   0.0              0.0   \n",
       "1                     0.0                   0.0              0.0   \n",
       "2                     0.0                   0.0              0.0   \n",
       "\n",
       "  weather-condition broad-phase-of-flight  event-year  risk_score  year  \n",
       "0               UNK                Cruise        1948         1.2  1948  \n",
       "1               UNK               Unknown        1962         2.4  1962  \n",
       "2               IMC                Cruise        1974         1.8  1974  "
      ]
     },
     "execution_count": 42,
     "metadata": {},
     "output_type": "execute_result"
    }
   ],
   "source": [
    "\n",
    "#Change the whole dataset Event.Date\n",
    "aviation_df[\"event-date\"] = pd.to_datetime(aviation_df[\"event-date\"])\n",
    "print(aviation_df[\"event-date\"].head(3))  \n",
    "\n",
    "# Get the year from event date' to analyze trends over time and adding a variable\n",
    "aviation_df[\"year\"] = aviation_data_df2[\"event-date\"].dt.year\n",
    "aviation_df.head(3)"
   ]
  },
  {
   "cell_type": "code",
   "execution_count": 43,
   "id": "b106a8af-98ce-4d96-8c60-9c725907eb18",
   "metadata": {},
   "outputs": [
    {
     "data": {
      "text/html": [
       "<div>\n",
       "<style scoped>\n",
       "    .dataframe tbody tr th:only-of-type {\n",
       "        vertical-align: middle;\n",
       "    }\n",
       "\n",
       "    .dataframe tbody tr th {\n",
       "        vertical-align: top;\n",
       "    }\n",
       "\n",
       "    .dataframe thead th {\n",
       "        text-align: right;\n",
       "    }\n",
       "</style>\n",
       "<table border=\"1\" class=\"dataframe\">\n",
       "  <thead>\n",
       "    <tr style=\"text-align: right;\">\n",
       "      <th></th>\n",
       "      <th>investigation-type</th>\n",
       "      <th>event-date</th>\n",
       "      <th>location</th>\n",
       "      <th>country</th>\n",
       "      <th>injury-severity</th>\n",
       "      <th>aircraft-damage</th>\n",
       "      <th>make</th>\n",
       "      <th>model</th>\n",
       "      <th>amateur-built</th>\n",
       "      <th>number-of-engines</th>\n",
       "      <th>engine-type</th>\n",
       "      <th>purpose-of-flight</th>\n",
       "      <th>total-fatal-injuries</th>\n",
       "      <th>total-serious-injuries</th>\n",
       "      <th>total-minor-injuries</th>\n",
       "      <th>total-uninjured</th>\n",
       "      <th>weather-condition</th>\n",
       "      <th>broad-phase-of-flight</th>\n",
       "      <th>event-year</th>\n",
       "      <th>risk_score</th>\n",
       "      <th>year</th>\n",
       "    </tr>\n",
       "  </thead>\n",
       "  <tbody>\n",
       "    <tr>\n",
       "      <th>0</th>\n",
       "      <td>Accident</td>\n",
       "      <td>1948-10-24</td>\n",
       "      <td>MOOSE CREEK, ID</td>\n",
       "      <td>United States</td>\n",
       "      <td>Fatal(2)</td>\n",
       "      <td>Destroyed</td>\n",
       "      <td>Stinson</td>\n",
       "      <td>108-3</td>\n",
       "      <td>No</td>\n",
       "      <td>1.0</td>\n",
       "      <td>Reciprocating</td>\n",
       "      <td>Personal</td>\n",
       "      <td>2.0</td>\n",
       "      <td>0.0</td>\n",
       "      <td>0.0</td>\n",
       "      <td>0.0</td>\n",
       "      <td>UNK</td>\n",
       "      <td>Cruise</td>\n",
       "      <td>1948</td>\n",
       "      <td>1.2</td>\n",
       "      <td>1948</td>\n",
       "    </tr>\n",
       "    <tr>\n",
       "      <th>1</th>\n",
       "      <td>Accident</td>\n",
       "      <td>1962-07-19</td>\n",
       "      <td>BRIDGEPORT, CA</td>\n",
       "      <td>United States</td>\n",
       "      <td>Fatal(4)</td>\n",
       "      <td>Destroyed</td>\n",
       "      <td>Piper</td>\n",
       "      <td>PA24-180</td>\n",
       "      <td>No</td>\n",
       "      <td>1.0</td>\n",
       "      <td>Reciprocating</td>\n",
       "      <td>Personal</td>\n",
       "      <td>4.0</td>\n",
       "      <td>0.0</td>\n",
       "      <td>0.0</td>\n",
       "      <td>0.0</td>\n",
       "      <td>UNK</td>\n",
       "      <td>Unknown</td>\n",
       "      <td>1962</td>\n",
       "      <td>2.4</td>\n",
       "      <td>1962</td>\n",
       "    </tr>\n",
       "    <tr>\n",
       "      <th>2</th>\n",
       "      <td>Accident</td>\n",
       "      <td>1974-08-30</td>\n",
       "      <td>Saltville, VA</td>\n",
       "      <td>United States</td>\n",
       "      <td>Fatal(3)</td>\n",
       "      <td>Destroyed</td>\n",
       "      <td>Cessna</td>\n",
       "      <td>172M</td>\n",
       "      <td>No</td>\n",
       "      <td>1.0</td>\n",
       "      <td>Reciprocating</td>\n",
       "      <td>Personal</td>\n",
       "      <td>3.0</td>\n",
       "      <td>0.0</td>\n",
       "      <td>0.0</td>\n",
       "      <td>0.0</td>\n",
       "      <td>IMC</td>\n",
       "      <td>Cruise</td>\n",
       "      <td>1974</td>\n",
       "      <td>1.8</td>\n",
       "      <td>1974</td>\n",
       "    </tr>\n",
       "  </tbody>\n",
       "</table>\n",
       "</div>"
      ],
      "text/plain": [
       "  investigation-type event-date         location        country  \\\n",
       "0           Accident 1948-10-24  MOOSE CREEK, ID  United States   \n",
       "1           Accident 1962-07-19   BRIDGEPORT, CA  United States   \n",
       "2           Accident 1974-08-30    Saltville, VA  United States   \n",
       "\n",
       "  injury-severity aircraft-damage     make     model amateur-built  \\\n",
       "0        Fatal(2)       Destroyed  Stinson     108-3            No   \n",
       "1        Fatal(4)       Destroyed    Piper  PA24-180            No   \n",
       "2        Fatal(3)       Destroyed   Cessna      172M            No   \n",
       "\n",
       "   number-of-engines    engine-type purpose-of-flight  total-fatal-injuries  \\\n",
       "0                1.0  Reciprocating          Personal                   2.0   \n",
       "1                1.0  Reciprocating          Personal                   4.0   \n",
       "2                1.0  Reciprocating          Personal                   3.0   \n",
       "\n",
       "   total-serious-injuries  total-minor-injuries  total-uninjured  \\\n",
       "0                     0.0                   0.0              0.0   \n",
       "1                     0.0                   0.0              0.0   \n",
       "2                     0.0                   0.0              0.0   \n",
       "\n",
       "  weather-condition broad-phase-of-flight  event-year  risk_score  year  \n",
       "0               UNK                Cruise        1948         1.2  1948  \n",
       "1               UNK               Unknown        1962         2.4  1962  \n",
       "2               IMC                Cruise        1974         1.8  1974  "
      ]
     },
     "execution_count": 43,
     "metadata": {},
     "output_type": "execute_result"
    }
   ],
   "source": [
    "aviation_df.head(3)"
   ]
  },
  {
   "cell_type": "code",
   "execution_count": 44,
   "id": "a3e968e6-7351-41d8-8590-50a7c590d1a9",
   "metadata": {},
   "outputs": [],
   "source": [
    "# filter the year before 1962\n",
    "aviation_df_filtered = aviation_df[aviation_df[\"year\"] >= 1962]"
   ]
  },
  {
   "cell_type": "code",
   "execution_count": 45,
   "id": "2f7116e1-6207-4a86-a768-15e7e1d72aa4",
   "metadata": {},
   "outputs": [
    {
     "data": {
      "image/png": "[encoded data removed]",
      "text/plain": [
       "<Figure size 2000x1200 with 1 Axes>"
      ]
     },
     "metadata": {},
     "output_type": "display_data"
    }
   ],
   "source": [
    "fig, ax = plt.subplots(figsize=(20, 12))\n",
    "ax.plot(aviation_df[\"year\"], aviation_df[\"risk_score\"], color=\"c\", linestyle=\"solid\", marker=\"x\")\n",
    "\n",
    "ax.set_title(\"Risk Score over the Years\")  #  title method\n",
    "ax.set_xlabel(\"Year\")                        # x-axis label\n",
    "ax.set_ylabel(\"Risk Score\")                  # y-axis label\n",
    "ax.grid(True) \n",
    "\n",
    "plt.show()"
   ]
  },
  {
   "cell_type": "markdown",
   "id": "5f7ec1a7-c9cb-457e-8ee6-08a72f8ab4b4",
   "metadata": {},
   "source": [
    "Before 1982, no incidents were recorded, likely due to incomplete data. In the mid-1980s, incidents peaked, possibly due to a surge in aviation activity or improved reporting. From the late 1980s to the early 2000s, incidents gradually declined, indicating advancements in safety and regulatory measures. After 2000, the number of incidents stabilized, reflecting a more mature and controlled aviation environment.\n",
    "These trends highlight significant periods for investigating incident causes and opportunities for safety improvements."
   ]
  },
  {
   "cell_type": "code",
   "execution_count": null,
   "id": "12f4dc6c-2f30-4414-9393-1169ad322fc6",
   "metadata": {},
   "outputs": [],
   "source": []
  },
  {
   "cell_type": "markdown",
   "id": "9ec614c0-b1d0-42f4-8396-3c3a2309d269",
   "metadata": {},
   "source": [
    "### Assess the Risk Scores in Relation to Wheather conditions"
   ]
  },
  {
   "cell_type": "code",
   "execution_count": 46,
   "id": "f0a243e5-c634-4da3-8f2b-6cf4b88875c1",
   "metadata": {},
   "outputs": [],
   "source": [
    "#"
   ]
  },
  {
   "cell_type": "code",
   "execution_count": 47,
   "id": "0ae9cbba-c005-49f4-8bdd-14aab593879b",
   "metadata": {},
   "outputs": [
    {
     "name": "stderr",
     "output_type": "stream",
     "text": [
      "C:\\Users\\Damaris\\AppData\\Local\\Temp\\ipykernel_9800\\3202531050.py:3: SettingWithCopyWarning: \n",
      "A value is trying to be set on a copy of a slice from a DataFrame.\n",
      "Try using .loc[row_indexer,col_indexer] = value instead\n",
      "\n",
      "See the caveats in the documentation: https://pandas.pydata.org/pandas-docs/stable/user_guide/indexing.html#returning-a-view-versus-a-copy\n",
      "  aviation_df[\"weather-condition\"] = aviation_df[\"weather-condition\"].replace([\"UNK\", \"unknown\", \"unk\"], \"Unknown\")\n"
     ]
    },
    {
     "data": {
      "text/plain": [
       "0        Unknown\n",
       "1        Unknown\n",
       "2            IMC\n",
       "3            IMC\n",
       "4            VMC\n",
       "          ...   \n",
       "88884    Unknown\n",
       "88885    Unknown\n",
       "88886        VMC\n",
       "88887    Unknown\n",
       "88888    Unknown\n",
       "Name: weather-condition, Length: 88371, dtype: object"
      ]
     },
     "execution_count": 47,
     "metadata": {},
     "output_type": "execute_result"
    }
   ],
   "source": [
    "#plotting a bar chart to figure out the risk score in relation to wheather condition\n",
    "# fixing the unique values in weather conditions and replacing the UNK, unk with unknown\n",
    "aviation_df[\"weather-condition\"] = aviation_df[\"weather-condition\"].replace([\"UNK\", \"unknown\", \"unk\"], \"Unknown\")\n",
    "aviation_df[\"weather-condition\"] \n"
   ]
  },
  {
   "cell_type": "code",
   "execution_count": 48,
   "id": "d4d58321-c31d-4bad-9cea-f65b821320ca",
   "metadata": {},
   "outputs": [],
   "source": [
    "weather = aviation_df[\"weather-condition\"].value_counts()"
   ]
  },
  {
   "cell_type": "code",
   "execution_count": 49,
   "id": "38f541b4-ba40-4574-9c68-a6cca55e1ced",
   "metadata": {},
   "outputs": [
    {
     "data": {
      "image/png": "[encoded data removed]",
      "text/plain": [
       "<Figure size 800x600 with 1 Axes>"
      ]
     },
     "metadata": {},
     "output_type": "display_data"
    }
   ],
   "source": [
    "#plotting a bar chart to figure out the risk score in relation to wheather condition\n",
    "plt.figure(figsize=(8, 6))\n",
    "plt.bar(weather.index, weather.values,color=\"m\", edgecolor='k')\n",
    "plt.xlabel(\"Weather Condition\")     \n",
    "plt.ylabel(\"Risk Score\")\n",
    "plt.title(\"Risk score Based on Weather Condition\")\n",
    "plt.xticks(rotation=0)  \n",
    "plt.tight_layout()\n",
    "plt.show()"
   ]
  },
  {
   "cell_type": "code",
   "execution_count": 50,
   "id": "2bbdab3e-d0ff-4d1d-b3e1-fb17d73b92ed",
   "metadata": {},
   "outputs": [
    {
     "data": {
      "image/png": "[encoded data removed]",
      "text/plain": [
       "<Figure size 600x400 with 1 Axes>"
      ]
     },
     "metadata": {},
     "output_type": "display_data"
    }
   ],
   "source": [
    "### Location\n",
    "\n",
    "# look at top ten states with most accidents \n",
    "top_5_countries = aviation_df[\"country\"\n",
    "\n",
    "].value_counts().head()\n",
    "\n",
    "\n",
    "plt.figure(figsize=(6, 4))\n",
    "bars = plt.bar(top_5_countries.index, top_5_countries.values)\n",
    "plt.xlabel('Country')\n",
    "plt.ylabel('Count')\n",
    "plt.title('Top 5 countries with Risk_score')\n",
    "plt.xticks(rotation=45)\n",
    "plt.grid(axis='y', linestyle='--', alpha=0.7)\n",
    "plt.show()"
   ]
  },
  {
   "cell_type": "code",
   "execution_count": null,
   "id": "94bd83a9-708b-453e-ab1d-0a6ad3e8fee5",
   "metadata": {},
   "outputs": [],
   "source": []
  },
  {
   "cell_type": "markdown",
   "id": "12d37b2d-68bc-444f-9e02-c8260e61ad45",
   "metadata": {},
   "source": [
    "### Risk Assessment Based On Number of Engines of the Aircraft"
   ]
  },
  {
   "cell_type": "code",
   "execution_count": 51,
   "id": "83af3df6-69ba-4564-94c5-cc3d4fb52bcf",
   "metadata": {},
   "outputs": [
    {
     "data": {
      "image/png": "[encoded data removed]",
      "text/plain": [
       "<Figure size 1200x800 with 1 Axes>"
      ]
     },
     "metadata": {},
     "output_type": "display_data"
    }
   ],
   "source": [
    "plt.figure(figsize=(12,8))\n",
    "sns.barplot(x=\"number-of-engines\", y= \"risk_score\", data = aviation_df)\n",
    "plt.title(\"Relationship between Risk Score and number of engines in aircraft\")\n",
    "plt.xlabel(\"Number of Engines\")\n",
    "plt.ylabel(\"Risk Score\")\n",
    "plt.xticks(rotation=45)\n",
    "plt.show()"
   ]
  },
  {
   "cell_type": "code",
   "execution_count": 52,
   "id": "3008fff3-9850-4d44-ba66-d2ed8d945038",
   "metadata": {},
   "outputs": [
    {
     "data": {
      "image/png": "[encoded data removed]",
      "text/plain": [
       "<Figure size 1200x800 with 1 Axes>"
      ]
     },
     "metadata": {},
     "output_type": "display_data"
    }
   ],
   "source": [
    "plt.figure(figsize=(12,8))\n",
    "sns.barplot(x=\"engine-type\", y= \"risk_score\", data = aviation_df)\n",
    "plt.title(\"Relationship between Risk Score and number of engines-type\")\n",
    "plt.xlabel(\"engine-type\")\n",
    "plt.ylabel(\"Risk Score\")\n",
    "plt.xticks(rotation=45)\n",
    "plt.show()"
   ]
  },
  {
   "cell_type": "markdown",
   "id": "889bacfc-5462-48c4-95a7-5e46505167cb",
   "metadata": {},
   "source": [
    "### Risk Evaluation in Relation to Flight Phase"
   ]
  },
  {
   "cell_type": "code",
   "execution_count": 56,
   "id": "453a7e9c-5ffc-4838-882b-2c0826dcd1cf",
   "metadata": {},
   "outputs": [
    {
     "data": {
      "image/png": "[encoded data removed]",
      "text/plain": [
       "<Figure size 1200x800 with 1 Axes>"
      ]
     },
     "metadata": {},
     "output_type": "display_data"
    }
   ],
   "source": [
    "# Number risk in regards to  Flight Phase\n",
    "plt.figure(figsize=(12, 8))\n",
    "\n",
    "# Use seaborn color palette for multiple colors\n",
    "colors = sns.color_palette(\"husl\", len(aviation_df[\"broad-phase-of-flight\"].unique()))\n",
    "\n",
    "# Plotting the bar chart with different colors for each bar\n",
    "plt.bar(aviation_df[\"broad-phase-of-flight\"], aviation_df[\"risk_score\"], color=colors, edgecolor='#1E201E')\n",
    "\n",
    "plt.xlabel('Flight Phase')\n",
    "plt.ylabel('Risk Score')\n",
    "plt.title('Number of Accidents in Relation to Flight Phase')\n",
    "plt.xticks(rotation=45)  # Rotating x-axis labels for better readability\n",
    "plt.tight_layout()\n",
    "plt.show()"
   ]
  },
  {
   "cell_type": "code",
   "execution_count": null,
   "id": "93cb596e-2e2b-4fe6-94b4-682399416775",
   "metadata": {},
   "outputs": [],
   "source": []
  },
  {
   "cell_type": "code",
   "execution_count": 57,
   "id": "34ca34a1-be70-406b-b3bf-9803a816ac75",
   "metadata": {},
   "outputs": [
    {
     "data": {
      "text/html": [
       "<div>\n",
       "<style scoped>\n",
       "    .dataframe tbody tr th:only-of-type {\n",
       "        vertical-align: middle;\n",
       "    }\n",
       "\n",
       "    .dataframe tbody tr th {\n",
       "        vertical-align: top;\n",
       "    }\n",
       "\n",
       "    .dataframe thead th {\n",
       "        text-align: right;\n",
       "    }\n",
       "</style>\n",
       "<table border=\"1\" class=\"dataframe\">\n",
       "  <thead>\n",
       "    <tr style=\"text-align: right;\">\n",
       "      <th></th>\n",
       "      <th>make</th>\n",
       "      <th>model</th>\n",
       "      <th>risk_score</th>\n",
       "    </tr>\n",
       "  </thead>\n",
       "  <tbody>\n",
       "    <tr>\n",
       "      <th>0</th>\n",
       "      <td>107.5 flying corporation</td>\n",
       "      <td>One Design DR 107</td>\n",
       "      <td>0.6</td>\n",
       "    </tr>\n",
       "    <tr>\n",
       "      <th>1</th>\n",
       "      <td>1200</td>\n",
       "      <td>G103</td>\n",
       "      <td>0.3</td>\n",
       "    </tr>\n",
       "    <tr>\n",
       "      <th>2</th>\n",
       "      <td>177mf llc</td>\n",
       "      <td>PITTS MODEL 12</td>\n",
       "      <td>0.6</td>\n",
       "    </tr>\n",
       "    <tr>\n",
       "      <th>3</th>\n",
       "      <td>1977 colfer-chan</td>\n",
       "      <td>STEEN SKYBOLT</td>\n",
       "      <td>0.1</td>\n",
       "    </tr>\n",
       "    <tr>\n",
       "      <th>4</th>\n",
       "      <td>1st ftr gp</td>\n",
       "      <td>FOCKE-WULF 190</td>\n",
       "      <td>0.6</td>\n",
       "    </tr>\n",
       "    <tr>\n",
       "      <th>...</th>\n",
       "      <td>...</td>\n",
       "      <td>...</td>\n",
       "      <td>...</td>\n",
       "    </tr>\n",
       "    <tr>\n",
       "      <th>18405</th>\n",
       "      <td>Zubair s khan</td>\n",
       "      <td>RAVEN</td>\n",
       "      <td>0.6</td>\n",
       "    </tr>\n",
       "    <tr>\n",
       "      <th>18406</th>\n",
       "      <td>Zuber thomas p</td>\n",
       "      <td>ZUBER SUPER DRIFTER</td>\n",
       "      <td>0.0</td>\n",
       "    </tr>\n",
       "    <tr>\n",
       "      <th>18407</th>\n",
       "      <td>Zukowski</td>\n",
       "      <td>EAA BIPLANE</td>\n",
       "      <td>0.0</td>\n",
       "    </tr>\n",
       "    <tr>\n",
       "      <th>18408</th>\n",
       "      <td>Zwart</td>\n",
       "      <td>KIT FOX VIXEN</td>\n",
       "      <td>0.0</td>\n",
       "    </tr>\n",
       "    <tr>\n",
       "      <th>18409</th>\n",
       "      <td>Zwicker murray r</td>\n",
       "      <td>GLASTAR</td>\n",
       "      <td>0.0</td>\n",
       "    </tr>\n",
       "  </tbody>\n",
       "</table>\n",
       "<p>18410 rows × 3 columns</p>\n",
       "</div>"
      ],
      "text/plain": [
       "                           make                model  risk_score\n",
       "0      107.5 flying corporation    One Design DR 107         0.6\n",
       "1                          1200                 G103         0.3\n",
       "2                     177mf llc       PITTS MODEL 12         0.6\n",
       "3              1977 colfer-chan        STEEN SKYBOLT         0.1\n",
       "4                    1st ftr gp       FOCKE-WULF 190         0.6\n",
       "...                         ...                  ...         ...\n",
       "18405             Zubair s khan                RAVEN         0.6\n",
       "18406            Zuber thomas p  ZUBER SUPER DRIFTER         0.0\n",
       "18407                  Zukowski          EAA BIPLANE         0.0\n",
       "18408                     Zwart        KIT FOX VIXEN         0.0\n",
       "18409          Zwicker murray r              GLASTAR         0.0\n",
       "\n",
       "[18410 rows x 3 columns]"
      ]
     },
     "execution_count": 57,
     "metadata": {},
     "output_type": "execute_result"
    }
   ],
   "source": [
    "grouped_risk_score = aviation_df.groupby(['make', 'model']).agg({'risk_score': 'mean'}).reset_index()\n",
    "grouped_risk_score"
   ]
  },
  {
   "cell_type": "code",
   "execution_count": 58,
   "id": "1a4f975c-a8f9-4907-b273-03eb0f35a399",
   "metadata": {},
   "outputs": [
    {
     "data": {
      "image/png": "[encoded data removed]",
      "text/plain": [
       "<Figure size 1200x600 with 1 Axes>"
      ]
     },
     "metadata": {},
     "output_type": "display_data"
    }
   ],
   "source": [
    "\n",
    "# Plotting\n",
    "top_grouped_risk_score = grouped_risk_score.nlargest(10, 'risk_score')\n",
    "plt.figure(figsize=(12, 6))\n",
    "sns.barplot(x='make', y='risk_score', hue='model', data=top_grouped_risk_score)\n",
    "plt.title('Top 10 Make and Model by Risk Rate')\n",
    "plt.ylabel('Average Risk Score')\n",
    "plt.xlabel('Make')\n",
    "plt.xticks(rotation=45)\n",
    "plt.tight_layout()\n",
    "plt.show()"
   ]
  },
  {
   "cell_type": "markdown",
   "id": "de181d6a-f294-4953-9001-e1b871077a85",
   "metadata": {},
   "source": [
    "Based on the graph, the top 3 makes with the lowest average risk rates are\n",
    "\n",
    "*Cessna\n",
    "*Piper\n",
    "*Rockwell\n",
    "\n",
    "For models, Cessna 172M stands out as a recommended model due to its consistently lower risk\n",
    "rate. These make and model combinations would be great recommendations for the company based on safety data."
   ]
  },
  {
   "cell_type": "code",
   "execution_count": null,
   "id": "b6d0c489-c1e8-4871-aafe-9d011f59b5f3",
   "metadata": {},
   "outputs": [],
   "source": []
  },
  {
   "cell_type": "code",
   "execution_count": null,
   "id": "70767b76-83bd-4c59-962d-050a2e0f4e35",
   "metadata": {},
   "outputs": [],
   "source": []
  }
 ],
 "metadata": {
  "kernelspec": {
   "display_name": "Python (learn-env)",
   "language": "python",
   "name": "learn-env"
  },
  "language_info": {
   "codemirror_mode": {
    "name": "ipython",
    "version": 3
   },
   "file_extension": ".py",
   "mimetype": "text/x-python",
   "name": "python",
   "nbconvert_exporter": "python",
   "pygments_lexer": "ipython3",
   "version": "3.12.4"
  }
 },
 "nbformat": 4,
 "nbformat_minor": 5
}
